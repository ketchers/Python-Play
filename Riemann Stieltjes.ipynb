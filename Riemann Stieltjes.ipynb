{
 "cells": [
  {
   "cell_type": "code",
   "execution_count": 18,
   "metadata": {},
   "outputs": [],
   "source": [
    "import random as rand\n",
    "import matplotlib.pylab as plt"
   ]
  },
  {
   "cell_type": "code",
   "execution_count": 75,
   "metadata": {},
   "outputs": [],
   "source": [
    "data = [rand.randint(1,6) + rand.randint(1,6) + rand.randint(1,6) for i in range(2000)]\n",
    "data.sort()"
   ]
  },
  {
   "cell_type": "code",
   "execution_count": 76,
   "metadata": {},
   "outputs": [],
   "source": [
    "x = [i + j/100 for i in range(3,19) for j in range(100)]\n",
    "y = [len([i for i in data if i <= b])/2000 for b in x]"
   ]
  },
  {
   "cell_type": "code",
   "execution_count": 99,
   "metadata": {},
   "outputs": [
    {
     "data": {
      "image/png": "[encoded data removed]",
      "text/plain": [
       "<Figure size 432x288 with 1 Axes>"
      ]
     },
     "metadata": {
      "needs_background": "light"
     },
     "output_type": "display_data"
    }
   ],
   "source": [
    "fig, ax = plt.subplots()\n",
    "eps = .1\n",
    "ax.fill_between(x, y, alpha=.5)\n",
    "ax.hlines([len([i for i in data if i <= b])/2000 for b in range(3,19)],\n",
    "          [a + eps for a in range(3,19)],[a - eps for a in range(4,20)], color='red')\n",
    "for j in range(3,19):\n",
    "    ax.plot([j],[len([i for i in data if i <= j])/2000],\"ro\")\n",
    "    ax.plot([j+1],[len([i for i in data if i <= j])/2000],\"ro\",fillstyle='none')\n",
    "\n",
    "plt.savefig('cum_dist.png')"
   ]
  },
  {
   "cell_type": "code",
   "execution_count": null,
   "metadata": {},
   "outputs": [],
   "source": []
  }
 ],
 "metadata": {
  "kernelspec": {
   "display_name": "Python 3",
   "language": "python",
   "name": "python3"
  },
  "language_info": {
   "codemirror_mode": {
    "name": "ipython",
    "version": 3
   },
   "file_extension": ".py",
   "mimetype": "text/x-python",
   "name": "python",
   "nbconvert_exporter": "python",
   "pygments_lexer": "ipython3",
   "version": "3.7.3"
  }
 },
 "nbformat": 4,
 "nbformat_minor": 2
}
