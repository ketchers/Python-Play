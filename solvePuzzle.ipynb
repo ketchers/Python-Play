{
 "cells": [
  {
   "cell_type": "code",
   "execution_count": 17,
   "metadata": {},
   "outputs": [],
   "source": [
    "import numpy as np\n",
    "from itertools import chain\n",
    "from time import sleep\n",
    "from timeit import default_timer as timer\n"
   ]
  },
  {
   "cell_type": "code",
   "execution_count": 11,
   "metadata": {},
   "outputs": [],
   "source": [
    "def memoize(f):\n",
    "    memo = {}\n",
    "    def helper(x):\n",
    "        if x not in memo:            \n",
    "            memo[x] = f(x)\n",
    "        return memo[x]\n",
    "    return helper\n",
    "\n",
    "def memoize2(f):\n",
    "    memo = {}\n",
    "    def helper(x, y):\n",
    "        if (x, y) not in memo:            \n",
    "            memo[(x,y)] = f(x,y)\n",
    "        return memo[(x,y)]\n",
    "    return helper"
   ]
  },
  {
   "cell_type": "markdown",
   "metadata": {},
   "source": [
    "The following is a terrible function being recursive. Running through the n element subsets requires rebuilding all the m element subsets for m < n. A dynamical algorithm or memoization needs to be used, but at the expense of a huge memory cost. \n",
    "\n",
    "A better, bounded search algorithm should be looked for here."
   ]
  },
  {
   "cell_type": "code",
   "execution_count": 3,
   "metadata": {},
   "outputs": [],
   "source": [
    "# At least two non-zero entries in each row/column\n",
    "def isValid(A, S):\n",
    "    C = sub(A,S) != 0\n",
    "    return min(np.sum(C,0)) > 1 and min(np.sum(C,1)) > 1\n",
    "    "
   ]
  },
  {
   "cell_type": "code",
   "execution_count": null,
   "metadata": {},
   "outputs": [],
   "source": []
  },
  {
   "cell_type": "code",
   "execution_count": 4,
   "metadata": {},
   "outputs": [],
   "source": [
    "def subSet(A, n, m):\n",
    "    if m == 1:\n",
    "        return [[i] for i in range(n) if isValid(A, [i])]\n",
    "    else:\n",
    "        S = subSet(A, n, m - 1)\n",
    "        T = [a + [i] for a in S if max(a) < n - 1 for i in range(max(a), n) if isValid(A, a + [i])]\n",
    "        return T + S"
   ]
  },
  {
   "cell_type": "code",
   "execution_count": 5,
   "metadata": {},
   "outputs": [],
   "source": [
    "A = np.array([[1 + 2*j + 2*i for j in range(6)] for i in range(6)])"
   ]
  },
  {
   "cell_type": "code",
   "execution_count": 6,
   "metadata": {},
   "outputs": [],
   "source": [
    "LEFT = np.array([5,7,8,12,15,15])\n",
    "TOP = np.array([6,7,11,12,14,17])"
   ]
  },
  {
   "cell_type": "code",
   "execution_count": 7,
   "metadata": {},
   "outputs": [],
   "source": [
    "def err(B, left, top):\n",
    "    leftError = left - np.sum(B,1)/np.sum(B != 0,1)\n",
    "    topError = top - np.sum(B,0)/np.sum(B != 0,0)\n",
    "    err = sum(leftError**2) + sum(topError**2) \n",
    "    return err"
   ]
  },
  {
   "cell_type": "code",
   "execution_count": 8,
   "metadata": {},
   "outputs": [],
   "source": [
    "def sub(B,S):\n",
    "    C = B.flatten()\n",
    "    C[S] = 0\n",
    "    C = C.reshape(B.shape)\n",
    "    return C"
   ]
  },
  {
   "cell_type": "code",
   "execution_count": null,
   "metadata": {},
   "outputs": [],
   "source": [
    "#file = open(\"log.txt\",\"a\")\n",
    "\n",
    "for i in [10]:\n",
    "    g = subSet(A,36,i)\n",
    "    while (True):\n",
    "        try:\n",
    "            a = next(g)\n",
    "        except:\n",
    "            print(\"No %s element solution\"%i)\n",
    "            break\n",
    "        C = sub(A,a)\n",
    "        error = err(C,LEFT,TOP)\n",
    "        #file.write(st)\n",
    "        if err(sub(A,a),LEFT,TOP) == 0:\n",
    "            print(sub(A,a))\n",
    "            break\n",
    "    \n",
    "#file.close()"
   ]
  },
  {
   "cell_type": "code",
   "execution_count": 7,
   "metadata": {},
   "outputs": [],
   "source": [
    "def fact(n):\n",
    "    if n == 0 or n == 1:\n",
    "        return 1\n",
    "    else:\n",
    "        return fact(n-1)*n\n",
    "    \n",
    "def comb(n,m):\n",
    "    if m > n:\n",
    "        return 0\n",
    "    if m == 0 or m == n:\n",
    "        return 1\n",
    "    return comb(n - 1, m - 1) + comb(n - 1, m)\n",
    "    "
   ]
  },
  {
   "cell_type": "code",
   "execution_count": null,
   "metadata": {},
   "outputs": [],
   "source": [
    "for i in range(1000):\n",
    "    file = open(\"log.txt\",\"w\")\n",
    "    file.write(\"Sleep %s\"%i)\n",
    "    file.close()\n",
    "    sleep(1)\n",
    "               "
   ]
  },
  {
   "cell_type": "code",
   "execution_count": null,
   "metadata": {},
   "outputs": [],
   "source": [
    "g = subSet(A,36,3)\n",
    "for i in range(10):\n",
    "    print(err(sub(A,next(g)),LEFT,TOP))"
   ]
  },
  {
   "cell_type": "code",
   "execution_count": null,
   "metadata": {},
   "outputs": [],
   "source": [
    "print(\"HI\")"
   ]
  },
  {
   "cell_type": "code",
   "execution_count": 10,
   "metadata": {},
   "outputs": [
    {
     "data": {
      "text/plain": [
       "254186856"
      ]
     },
     "execution_count": 10,
     "metadata": {},
     "output_type": "execute_result"
    }
   ],
   "source": [
    "comb(36,10)"
   ]
  },
  {
   "cell_type": "code",
   "execution_count": 12,
   "metadata": {},
   "outputs": [],
   "source": [
    "comb = memoize2(comb)"
   ]
  },
  {
   "cell_type": "code",
   "execution_count": 13,
   "metadata": {},
   "outputs": [
    {
     "data": {
      "text/plain": [
       "254186856"
      ]
     },
     "execution_count": 13,
     "metadata": {},
     "output_type": "execute_result"
    }
   ],
   "source": [
    "comb(36,10)"
   ]
  },
  {
   "cell_type": "code",
   "execution_count": 24,
   "metadata": {},
   "outputs": [
    {
     "name": "stdout",
     "output_type": "stream",
     "text": [
      "0.00019512899996243505\n"
     ]
    }
   ],
   "source": [
    "start = timer()\n",
    "fact(361)\n",
    "end = timer()\n",
    "print(end - start)"
   ]
  },
  {
   "cell_type": "code",
   "execution_count": 33,
   "metadata": {},
   "outputs": [
    {
     "name": "stdout",
     "output_type": "stream",
     "text": [
      "3.4701999993558275e-05\n"
     ]
    }
   ],
   "source": [
    "fact1 = memoize(fact)\n",
    "start = timer()\n",
    "comb(361,34)\n",
    "end = timer()\n",
    "print(end - start)"
   ]
  },
  {
   "cell_type": "code",
   "execution_count": null,
   "metadata": {},
   "outputs": [],
   "source": []
  }
 ],
 "metadata": {
  "kernelspec": {
   "display_name": "Python 3",
   "language": "python",
   "name": "python3"
  },
  "language_info": {
   "codemirror_mode": {
    "name": "ipython",
    "version": 3
   },
   "file_extension": ".py",
   "mimetype": "text/x-python",
   "name": "python",
   "nbconvert_exporter": "python",
   "pygments_lexer": "ipython3",
   "version": "3.7.3"
  }
 },
 "nbformat": 4,
 "nbformat_minor": 2
}
