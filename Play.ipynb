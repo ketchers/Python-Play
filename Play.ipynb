{
 "cells": [
  {
   "cell_type": "code",
   "execution_count": 1,
   "metadata": {
    "collapsed": true
   },
   "outputs": [],
   "source": [
    "import sympy as sym\n",
    "import urllib\n",
    "sym.init_printing()"
   ]
  },
  {
   "cell_type": "code",
   "execution_count": 12,
   "metadata": {
    "collapsed": false
   },
   "outputs": [
    {
     "name": "stdout",
     "output_type": "stream",
     "text": [
      "\\begin{align*}\\frac{P_0(1+r+0.01)^t-P_0(1+r)^t}{P_0(1+r)^t}&=\\frac{(1+r+0.01)^t-(1+r)^t}{(1+r)^t}\\\\&=\\frac{(1+r+0.01)^t}{(1+r)^t}-1\\\\&=\\left(\\frac{1+r+0.01}{1+r}\\right)^t-1\\\\&=\\left(1+\\frac{0.01}{1+r}\\right)^t-1\\\\&\\approx1+t\\left(\\frac{0.01}{1+r}\\right)-1&\\text{since}\\frac{0.01}{1+r}\\approx0\\\\&=t\\left(\\frac{0.01}{1+r}\\right)\\end{align*}\n"
     ]
    }
   ],
   "source": [
    "url=\"%5Cbegin%7Balign*%7D&space;%5Cfrac%7BP_0(1&plus;r&plus;0.01)%5Et-P_0(1&plus;r)%5Et%7D%7BP_0(1&plus;r)%5Et%7D&space;&=&space;%5Cfrac%7B(1&plus;r&plus;0.01)%5Et-(1&plus;r)%5Et%7D%7B(1&plus;r)%5Et%7D%5C%5C&space;&=&space;%5Cfrac%7B(1&plus;r&plus;0.01)%5Et%7D%7B(1&plus;r)%5Et%7D-1%5C%5C&space;&=&space;%5Cleft(&space;%5Cfrac%7B1&plus;r&plus;0.01%7D%7B1&plus;r%7D%5Cright&space;)%5Et-1%5C%5C&space;&=&space;%5Cleft(1&space;&plus;%5Cfrac%7B0.01%7D%7B1&plus;r%7D&space;%5Cright&space;)%5Et-1%5C%5C&space;&%5Capprox&space;1&plus;t%5Cleft(&space;%5Cfrac%7B0.01%7D%7B1&plus;r%7D%5Cright)-1&space;&&space;%5Ctext%7Bsince&space;%7D%5Cfrac%7B0.01%7D%7B1&plus;r%7D%5Capprox&space;0%5C%5C&space;&=t%5Cleft(&space;%5Cfrac%7B0.01%7D%7B1&plus;r%7D%5Cright)&space;%5Cend%7Balign*%7D\"\n",
    "url = urllib.unquote_plus(url).replace(\"&space;\",\"\").replace(\"&plus;\",\"+\")\n",
    "print(url)"
   ]
  },
  {
   "cell_type": "code",
   "execution_count": null,
   "metadata": {
    "collapsed": true
   },
   "outputs": [],
   "source": []
  }
 ],
 "metadata": {
  "kernelspec": {
   "display_name": "Python 2",
   "language": "python",
   "name": "python2"
  },
  "language_info": {
   "codemirror_mode": {
    "name": "ipython",
    "version": 2
   },
   "file_extension": ".py",
   "mimetype": "text/x-python",
   "name": "python",
   "nbconvert_exporter": "python",
   "pygments_lexer": "ipython2",
   "version": "2.7.11"
  }
 },
 "nbformat": 4,
 "nbformat_minor": 0
}
