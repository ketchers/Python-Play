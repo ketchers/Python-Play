{
 "cells": [
  {
   "cell_type": "code",
   "execution_count": 1,
   "metadata": {
    "collapsed": true,
    "jupyter": {
     "outputs_hidden": true
    }
   },
   "outputs": [],
   "source": [
    "import sympy as sym\n",
    "import urllib\n",
    "sym.init_printing()"
   ]
  },
  {
   "cell_type": "code",
   "execution_count": 12,
   "metadata": {
    "collapsed": false,
    "jupyter": {
     "outputs_hidden": false
    }
   },
   "outputs": [
    {
     "name": "stdout",
     "output_type": "stream",
     "text": [
      "\\begin{align*}\\frac{P_0(1+r+0.01)^t-P_0(1+r)^t}{P_0(1+r)^t}&=\\frac{(1+r+0.01)^t-(1+r)^t}{(1+r)^t}\\\\&=\\frac{(1+r+0.01)^t}{(1+r)^t}-1\\\\&=\\left(\\frac{1+r+0.01}{1+r}\\right)^t-1\\\\&=\\left(1+\\frac{0.01}{1+r}\\right)^t-1\\\\&\\approx1+t\\left(\\frac{0.01}{1+r}\\right)-1&\\text{since}\\frac{0.01}{1+r}\\approx0\\\\&=t\\left(\\frac{0.01}{1+r}\\right)\\end{align*}\n"
     ]
    }
   ],
   "source": [
    "url=\"%5Cbegin%7Balign*%7D&space;%5Cfrac%7BP_0(1&plus;r&plus;0.01)%5Et-P_0(1&plus;r)%5Et%7D%7BP_0(1&plus;r)%5Et%7D&space;&=&space;%5Cfrac%7B(1&plus;r&plus;0.01)%5Et-(1&plus;r)%5Et%7D%7B(1&plus;r)%5Et%7D%5C%5C&space;&=&space;%5Cfrac%7B(1&plus;r&plus;0.01)%5Et%7D%7B(1&plus;r)%5Et%7D-1%5C%5C&space;&=&space;%5Cleft(&space;%5Cfrac%7B1&plus;r&plus;0.01%7D%7B1&plus;r%7D%5Cright&space;)%5Et-1%5C%5C&space;&=&space;%5Cleft(1&space;&plus;%5Cfrac%7B0.01%7D%7B1&plus;r%7D&space;%5Cright&space;)%5Et-1%5C%5C&space;&%5Capprox&space;1&plus;t%5Cleft(&space;%5Cfrac%7B0.01%7D%7B1&plus;r%7D%5Cright)-1&space;&&space;%5Ctext%7Bsince&space;%7D%5Cfrac%7B0.01%7D%7B1&plus;r%7D%5Capprox&space;0%5C%5C&space;&=t%5Cleft(&space;%5Cfrac%7B0.01%7D%7B1&plus;r%7D%5Cright)&space;%5Cend%7Balign*%7D\"\n",
    "url = urllib.unquote_plus(url).replace(\"&space;\",\"\").replace(\"&plus;\",\"+\")\n",
    "print(url)"
   ]
  },
  {
   "cell_type": "code",
   "execution_count": 1,
   "metadata": {
    "tags": []
   },
   "outputs": [],
   "source": [
    "import random as rand"
   ]
  },
  {
   "cell_type": "code",
   "execution_count": 6,
   "metadata": {},
   "outputs": [],
   "source": [
    "gen = lambda: [rand.randint(1,6) for i in range(6)]\n"
   ]
  },
  {
   "cell_type": "code",
   "execution_count": 11,
   "metadata": {},
   "outputs": [],
   "source": [
    "b = gen()"
   ]
  },
  {
   "cell_type": "code",
   "execution_count": 13,
   "metadata": {},
   "outputs": [],
   "source": [
    "a = gen()"
   ]
  },
  {
   "cell_type": "code",
   "execution_count": 3,
   "metadata": {},
   "outputs": [],
   "source": [
    "def diff(x, y):\n",
    "    tmp = x[:]\n",
    "    for a in y:\n",
    "        try:\n",
    "            tmp.remove(a)\n",
    "        except ValueError:\n",
    "            pass\n",
    "    return tmp\n",
    "                "
   ]
  },
  {
   "cell_type": "code",
   "execution_count": 22,
   "metadata": {},
   "outputs": [],
   "source": [
    "def trial(n):\n",
    "    a = gen()\n",
    "    res = (diff(gen(),a) for i in range(n))\n",
    "    counts = (1 for a in res if len(a) < 2)\n",
    "    return sum(counts)/n\n",
    "    "
   ]
  },
  {
   "cell_type": "code",
   "execution_count": 18,
   "metadata": {},
   "outputs": [
    {
     "data": {
      "text/plain": [
       "0.7975559999999989"
      ]
     },
     "execution_count": 18,
     "metadata": {},
     "output_type": "execute_result"
    }
   ],
   "source": [
    "sum([trial(100)/10000 for i in range(100)])"
   ]
  },
  {
   "cell_type": "code",
   "execution_count": 36,
   "metadata": {},
   "outputs": [
    {
     "data": {
      "text/plain": [
       "0.08217000000000002"
      ]
     },
     "execution_count": 36,
     "metadata": {},
     "output_type": "execute_result"
    }
   ],
   "source": [
    "H = [trial(100) for i in range(1000)]\n",
    "sum(H)/1000"
   ]
  },
  {
   "cell_type": "code",
   "execution_count": 47,
   "metadata": {},
   "outputs": [
    {
     "data": {
      "application/vnd.plotly.v1+json": {
       "config": {
        "plotlyServerURL": "https://plotly.com"
       },
       "data": [
        {
         "alignmentgroup": "True",
         "bingroup": "x",
         "hovertemplate": "variable=0<br>value=%{x}<br>count=%{y}<extra></extra>",
         "legendgroup": "0",
         "marker": {
          "color": "#636efa"
         },
         "name": "0",
         "offsetgroup": "0",
         "orientation": "v",
         "showlegend": true,
         "type": "histogram",
         "x": [
          0.05,
          0.01,
          0.01,
          0.08,
          0.05,
          0.12,
          0.05,
          0.14,
          0.02,
          0.04,
          0.07,
          0.08,
          0.05,
          0.15,
          0.12,
          0.09,
          0.06,
          0.02,
          0.01,
          0.14,
          0.12,
          0.04,
          0.08,
          0.05,
          0.12,
          0.14,
          0.11,
          0.23,
          0.04,
          0.16,
          0.1,
          0.06,
          0.14,
          0.02,
          0.02,
          0.07,
          0.01,
          0.14,
          0.04,
          0.05,
          0.14,
          0.09,
          0.07,
          0.08,
          0.03,
          0.16,
          0.17,
          0.1,
          0.07,
          0.08,
          0.06,
          0.09,
          0.14,
          0.06,
          0.06,
          0.1,
          0.14,
          0.13,
          0.05,
          0.07,
          0.02,
          0.14,
          0,
          0.15,
          0.07,
          0.09,
          0.07,
          0.11,
          0.07,
          0.13,
          0.06,
          0.06,
          0.1,
          0.15,
          0.05,
          0.04,
          0.03,
          0.1,
          0.05,
          0.13,
          0.09,
          0.06,
          0.02,
          0.12,
          0.23,
          0.19,
          0.12,
          0.13,
          0.08,
          0.08,
          0.04,
          0.04,
          0.12,
          0.23,
          0.06,
          0.11,
          0.03,
          0.05,
          0.09,
          0.15,
          0.04,
          0.13,
          0.01,
          0.14,
          0.07,
          0.04,
          0.18,
          0.03,
          0.02,
          0.11,
          0.16,
          0.06,
          0.17,
          0.13,
          0.03,
          0.12,
          0.19,
          0.01,
          0.16,
          0.1,
          0.05,
          0.13,
          0.14,
          0.1,
          0.11,
          0,
          0.08,
          0.03,
          0.07,
          0.03,
          0.12,
          0.01,
          0.06,
          0.07,
          0.02,
          0.1,
          0.07,
          0.15,
          0.17,
          0.13,
          0.06,
          0.12,
          0.04,
          0.06,
          0.04,
          0.07,
          0.06,
          0.12,
          0.02,
          0.04,
          0.01,
          0.01,
          0.12,
          0.09,
          0.06,
          0.1,
          0.11,
          0.12,
          0.11,
          0.1,
          0.07,
          0.01,
          0.06,
          0.07,
          0.05,
          0.01,
          0.06,
          0.09,
          0.05,
          0.19,
          0.06,
          0.12,
          0.17,
          0.06,
          0.04,
          0.08,
          0.21,
          0.08,
          0.04,
          0.11,
          0.13,
          0.03,
          0.05,
          0.05,
          0.06,
          0.17,
          0.1,
          0.26,
          0.03,
          0.04,
          0.06,
          0.14,
          0.06,
          0.14,
          0.11,
          0.02,
          0.04,
          0.08,
          0.18,
          0.18,
          0.07,
          0.16,
          0.05,
          0.06,
          0.11,
          0.07,
          0.11,
          0.1,
          0.13,
          0.11,
          0.22,
          0.1,
          0.15,
          0.14,
          0,
          0.07,
          0.17,
          0.11,
          0.11,
          0.1,
          0.07,
          0.04,
          0.12,
          0.04,
          0.15,
          0.05,
          0.03,
          0.07,
          0,
          0.07,
          0.07,
          0.06,
          0.06,
          0.04,
          0.05,
          0.12,
          0.18,
          0.02,
          0.02,
          0,
          0.04,
          0.13,
          0.03,
          0.17,
          0.07,
          0.08,
          0.05,
          0.05,
          0.06,
          0.18,
          0.17,
          0.08,
          0.18,
          0.09,
          0.08,
          0.1,
          0.05,
          0.04,
          0.06,
          0.13,
          0.1,
          0.21,
          0.15,
          0.01,
          0.02,
          0.02,
          0.12,
          0.06,
          0.06,
          0.05,
          0.12,
          0.07,
          0.03,
          0.19,
          0.03,
          0.17,
          0.1,
          0.18,
          0.02,
          0.24,
          0.26,
          0.03,
          0.08,
          0.06,
          0.07,
          0.15,
          0.13,
          0.03,
          0.1,
          0.04,
          0.11,
          0.2,
          0,
          0.04,
          0,
          0.05,
          0.12,
          0.06,
          0.09,
          0.08,
          0.05,
          0.1,
          0.01,
          0.02,
          0.23,
          0.15,
          0.1,
          0.18,
          0.07,
          0.06,
          0.16,
          0.15,
          0.02,
          0.04,
          0.04,
          0.06,
          0.14,
          0.04,
          0.17,
          0.03,
          0.03,
          0.03,
          0.18,
          0.03,
          0,
          0.08,
          0.01,
          0.1,
          0.03,
          0.02,
          0.03,
          0.01,
          0.14,
          0.08,
          0.03,
          0.13,
          0.06,
          0.19,
          0.03,
          0.08,
          0.14,
          0.07,
          0.1,
          0.03,
          0.14,
          0.01,
          0.04,
          0.19,
          0,
          0.08,
          0.16,
          0.07,
          0.06,
          0.07,
          0.07,
          0.04,
          0.13,
          0.07,
          0.01,
          0.05,
          0.02,
          0.07,
          0.03,
          0.1,
          0.17,
          0.1,
          0.02,
          0.05,
          0.05,
          0.09,
          0.16,
          0.02,
          0.02,
          0.06,
          0.08,
          0.02,
          0.05,
          0.08,
          0.02,
          0.1,
          0.04,
          0.12,
          0.19,
          0.06,
          0.14,
          0.07,
          0.04,
          0.18,
          0.06,
          0.28,
          0.05,
          0.1,
          0.11,
          0.06,
          0.13,
          0.1,
          0.03,
          0.01,
          0.03,
          0.07,
          0.01,
          0.06,
          0.01,
          0.17,
          0.08,
          0.02,
          0.04,
          0.06,
          0.03,
          0.1,
          0.05,
          0.06,
          0,
          0.11,
          0.09,
          0.04,
          0.1,
          0.12,
          0.14,
          0.04,
          0.04,
          0.15,
          0.09,
          0.14,
          0.04,
          0.05,
          0.06,
          0.16,
          0.1,
          0.08,
          0.08,
          0.12,
          0.05,
          0.03,
          0.06,
          0.09,
          0.12,
          0.11,
          0.01,
          0.05,
          0.06,
          0.09,
          0.1,
          0.02,
          0.05,
          0.11,
          0.06,
          0.07,
          0.06,
          0.04,
          0.02,
          0.03,
          0.13,
          0.03,
          0.06,
          0.05,
          0.04,
          0.07,
          0.03,
          0.06,
          0.31,
          0.11,
          0.27,
          0.11,
          0.06,
          0.03,
          0.08,
          0.01,
          0.13,
          0.02,
          0.04,
          0.1,
          0.01,
          0.12,
          0.07,
          0.04,
          0.01,
          0.03,
          0.05,
          0.05,
          0.03,
          0.14,
          0.05,
          0.05,
          0.05,
          0.17,
          0.09,
          0.1,
          0.04,
          0.03,
          0.1,
          0.09,
          0.05,
          0.03,
          0.05,
          0.11,
          0.03,
          0.05,
          0.07,
          0.08,
          0.1,
          0.07,
          0.05,
          0.02,
          0.07,
          0.02,
          0.13,
          0.12,
          0.07,
          0.09,
          0,
          0,
          0.15,
          0.08,
          0.07,
          0,
          0.07,
          0.04,
          0.11,
          0,
          0.19,
          0.12,
          0.01,
          0.03,
          0.06,
          0.01,
          0.16,
          0.11,
          0.05,
          0.09,
          0.1,
          0.04,
          0.05,
          0.09,
          0.06,
          0.06,
          0.13,
          0.14,
          0.07,
          0.14,
          0.01,
          0.07,
          0.03,
          0.05,
          0.12,
          0.04,
          0.12,
          0.21,
          0.1,
          0,
          0.09,
          0.19,
          0.11,
          0.18,
          0.14,
          0.04,
          0.13,
          0.21,
          0.14,
          0.06,
          0.04,
          0.07,
          0.06,
          0.07,
          0.03,
          0.14,
          0.12,
          0.03,
          0.13,
          0.06,
          0.07,
          0.15,
          0.13,
          0.04,
          0.05,
          0.19,
          0.04,
          0.05,
          0.01,
          0.07,
          0.14,
          0.1,
          0.07,
          0.15,
          0.06,
          0.02,
          0.01,
          0.08,
          0.16,
          0.08,
          0.03,
          0.06,
          0.13,
          0.08,
          0.04,
          0.06,
          0.03,
          0.01,
          0.08,
          0.1,
          0.05,
          0.03,
          0.1,
          0.13,
          0.04,
          0.04,
          0.14,
          0.1,
          0.09,
          0.04,
          0.07,
          0.1,
          0.17,
          0.02,
          0.1,
          0.14,
          0.05,
          0.25,
          0.08,
          0.1,
          0.06,
          0.15,
          0.07,
          0.06,
          0.07,
          0.14,
          0.14,
          0.13,
          0.14,
          0.13,
          0.08,
          0.01,
          0.06,
          0.05,
          0.01,
          0.14,
          0.11,
          0.2,
          0.05,
          0.09,
          0.03,
          0.12,
          0.08,
          0.12,
          0.11,
          0.05,
          0.06,
          0.1,
          0.01,
          0.08,
          0.01,
          0.1,
          0.15,
          0.03,
          0.14,
          0.04,
          0.02,
          0.18,
          0.1,
          0.12,
          0.07,
          0.06,
          0.01,
          0.04,
          0.03,
          0.09,
          0.16,
          0.1,
          0.04,
          0.02,
          0.05,
          0.18,
          0.02,
          0.05,
          0.17,
          0.1,
          0.1,
          0.09,
          0.09,
          0.17,
          0.1,
          0.03,
          0.1,
          0.1,
          0.16,
          0.07,
          0.06,
          0.05,
          0.15,
          0.04,
          0.13,
          0.03,
          0.12,
          0.16,
          0.08,
          0.03,
          0.11,
          0.05,
          0.12,
          0.03,
          0.07,
          0.02,
          0.13,
          0.2,
          0.15,
          0.03,
          0.09,
          0.02,
          0.1,
          0.05,
          0.03,
          0.08,
          0.22,
          0.17,
          0.06,
          0.04,
          0.15,
          0.1,
          0.03,
          0.16,
          0.14,
          0.07,
          0.01,
          0.09,
          0.04,
          0.06,
          0.15,
          0.04,
          0.09,
          0.1,
          0.09,
          0.06,
          0.04,
          0.04,
          0.03,
          0.1,
          0.05,
          0.09,
          0.01,
          0.06,
          0.06,
          0.06,
          0.04,
          0.02,
          0.09,
          0.12,
          0.09,
          0.18,
          0.09,
          0.04,
          0.1,
          0.14,
          0.03,
          0.08,
          0.06,
          0.11,
          0.12,
          0.08,
          0.07,
          0.22,
          0.01,
          0.13,
          0.01,
          0.14,
          0.04,
          0.02,
          0.08,
          0.09,
          0.05,
          0.05,
          0.05,
          0.09,
          0.06,
          0.09,
          0.11,
          0.02,
          0.08,
          0.23,
          0.11,
          0.11,
          0.01,
          0.11,
          0.05,
          0.2,
          0.09,
          0.04,
          0.08,
          0.08,
          0.07,
          0.04,
          0.17,
          0.07,
          0.07,
          0.03,
          0.13,
          0.12,
          0.09,
          0.1,
          0.07,
          0.05,
          0.07,
          0.05,
          0.03,
          0.09,
          0.05,
          0.18,
          0.03,
          0.05,
          0.06,
          0.05,
          0.08,
          0.13,
          0.05,
          0.03,
          0.11,
          0.03,
          0.02,
          0.14,
          0.07,
          0.04,
          0.05,
          0.14,
          0.09,
          0.02,
          0.1,
          0.06,
          0.12,
          0.07,
          0.03,
          0.02,
          0.06,
          0.05,
          0.03,
          0.08,
          0.07,
          0.13,
          0.08,
          0.1,
          0.04,
          0.07,
          0.14,
          0.05,
          0.04,
          0.09,
          0.19,
          0,
          0.08,
          0.16,
          0.05,
          0.04,
          0.06,
          0.06,
          0.05,
          0.04,
          0.04,
          0.09,
          0.15,
          0.08,
          0.01,
          0.02,
          0.2,
          0.11,
          0.13,
          0.1,
          0.03,
          0.03,
          0.03,
          0.08,
          0.09,
          0.08,
          0.17,
          0,
          0.08,
          0.1,
          0.03,
          0.03,
          0.11,
          0.05,
          0.02,
          0.05,
          0.04,
          0.15,
          0.17,
          0.01,
          0.02,
          0.05,
          0.06,
          0.04,
          0.17,
          0.08,
          0.11,
          0.09,
          0.09,
          0.17,
          0.22,
          0.05,
          0.25,
          0.01,
          0.09,
          0,
          0.02,
          0.03,
          0.15,
          0.06,
          0.09,
          0.11,
          0.1,
          0.11,
          0.07,
          0.07,
          0.06,
          0.13,
          0.15,
          0.09,
          0.07,
          0.06,
          0.2,
          0.15,
          0.29,
          0.08,
          0.05,
          0.07,
          0.09,
          0.05,
          0.07,
          0.04,
          0.06,
          0.14,
          0.05,
          0.11,
          0.02,
          0.03,
          0.03,
          0.13,
          0.08,
          0.04,
          0.05,
          0.05,
          0.16,
          0.03,
          0.26,
          0.14,
          0.07,
          0.03,
          0.13,
          0.16,
          0.04,
          0.09,
          0.06,
          0.18,
          0.07,
          0.08,
          0.15,
          0.01,
          0.13,
          0.05,
          0.02,
          0.05,
          0.07,
          0.07,
          0.04,
          0.08,
          0.02,
          0.06,
          0.02,
          0.09,
          0.04,
          0.02,
          0.13,
          0.07,
          0.12,
          0.09,
          0.04,
          0.07,
          0.07,
          0.07,
          0.05,
          0.1,
          0.09,
          0.08,
          0.03,
          0.27,
          0.1,
          0.06,
          0.11,
          0.06,
          0.18,
          0.08,
          0.06,
          0.09,
          0.03,
          0.05,
          0.06,
          0.11,
          0.1,
          0.01,
          0.09,
          0.03,
          0.07,
          0.12
         ],
         "xaxis": "x",
         "yaxis": "y"
        },
        {
         "type": "scatter",
         "x": [
          0,
          0
         ],
         "y": [
          0,
          60
         ]
        }
       ],
       "layout": {
        "autosize": true,
        "barmode": "relative",
        "legend": {
         "title": {
          "text": "variable"
         },
         "tracegroupgap": 0
        },
        "margin": {
         "t": 60
        },
        "shapes": [
         {
          "line": {
           "dash": "dash"
          },
          "type": "line",
          "x0": 0.08217000000000002,
          "x1": 0.08217000000000002,
          "xref": "x",
          "y0": 0,
          "y1": 1,
          "yref": "y domain"
         }
        ],
        "template": {
         "data": {
          "bar": [
           {
            "error_x": {
             "color": "#2a3f5f"
            },
            "error_y": {
             "color": "#2a3f5f"
            },
            "marker": {
             "line": {
              "color": "#E5ECF6",
              "width": 0.5
             }
            },
            "type": "bar"
           }
          ],
          "barpolar": [
           {
            "marker": {
             "line": {
              "color": "#E5ECF6",
              "width": 0.5
             }
            },
            "type": "barpolar"
           }
          ],
          "carpet": [
           {
            "aaxis": {
             "endlinecolor": "#2a3f5f",
             "gridcolor": "white",
             "linecolor": "white",
             "minorgridcolor": "white",
             "startlinecolor": "#2a3f5f"
            },
            "baxis": {
             "endlinecolor": "#2a3f5f",
             "gridcolor": "white",
             "linecolor": "white",
             "minorgridcolor": "white",
             "startlinecolor": "#2a3f5f"
            },
            "type": "carpet"
           }
          ],
          "choropleth": [
           {
            "colorbar": {
             "outlinewidth": 0,
             "ticks": ""
            },
            "type": "choropleth"
           }
          ],
          "contour": [
           {
            "colorbar": {
             "outlinewidth": 0,
             "ticks": ""
            },
            "colorscale": [
             [
              0,
              "#0d0887"
             ],
             [
              0.1111111111111111,
              "#46039f"
             ],
             [
              0.2222222222222222,
              "#7201a8"
             ],
             [
              0.3333333333333333,
              "#9c179e"
             ],
             [
              0.4444444444444444,
              "#bd3786"
             ],
             [
              0.5555555555555556,
              "#d8576b"
             ],
             [
              0.6666666666666666,
              "#ed7953"
             ],
             [
              0.7777777777777778,
              "#fb9f3a"
             ],
             [
              0.8888888888888888,
              "#fdca26"
             ],
             [
              1,
              "#f0f921"
             ]
            ],
            "type": "contour"
           }
          ],
          "contourcarpet": [
           {
            "colorbar": {
             "outlinewidth": 0,
             "ticks": ""
            },
            "type": "contourcarpet"
           }
          ],
          "heatmap": [
           {
            "colorbar": {
             "outlinewidth": 0,
             "ticks": ""
            },
            "colorscale": [
             [
              0,
              "#0d0887"
             ],
             [
              0.1111111111111111,
              "#46039f"
             ],
             [
              0.2222222222222222,
              "#7201a8"
             ],
             [
              0.3333333333333333,
              "#9c179e"
             ],
             [
              0.4444444444444444,
              "#bd3786"
             ],
             [
              0.5555555555555556,
              "#d8576b"
             ],
             [
              0.6666666666666666,
              "#ed7953"
             ],
             [
              0.7777777777777778,
              "#fb9f3a"
             ],
             [
              0.8888888888888888,
              "#fdca26"
             ],
             [
              1,
              "#f0f921"
             ]
            ],
            "type": "heatmap"
           }
          ],
          "heatmapgl": [
           {
            "colorbar": {
             "outlinewidth": 0,
             "ticks": ""
            },
            "colorscale": [
             [
              0,
              "#0d0887"
             ],
             [
              0.1111111111111111,
              "#46039f"
             ],
             [
              0.2222222222222222,
              "#7201a8"
             ],
             [
              0.3333333333333333,
              "#9c179e"
             ],
             [
              0.4444444444444444,
              "#bd3786"
             ],
             [
              0.5555555555555556,
              "#d8576b"
             ],
             [
              0.6666666666666666,
              "#ed7953"
             ],
             [
              0.7777777777777778,
              "#fb9f3a"
             ],
             [
              0.8888888888888888,
              "#fdca26"
             ],
             [
              1,
              "#f0f921"
             ]
            ],
            "type": "heatmapgl"
           }
          ],
          "histogram": [
           {
            "marker": {
             "colorbar": {
              "outlinewidth": 0,
              "ticks": ""
             }
            },
            "type": "histogram"
           }
          ],
          "histogram2d": [
           {
            "colorbar": {
             "outlinewidth": 0,
             "ticks": ""
            },
            "colorscale": [
             [
              0,
              "#0d0887"
             ],
             [
              0.1111111111111111,
              "#46039f"
             ],
             [
              0.2222222222222222,
              "#7201a8"
             ],
             [
              0.3333333333333333,
              "#9c179e"
             ],
             [
              0.4444444444444444,
              "#bd3786"
             ],
             [
              0.5555555555555556,
              "#d8576b"
             ],
             [
              0.6666666666666666,
              "#ed7953"
             ],
             [
              0.7777777777777778,
              "#fb9f3a"
             ],
             [
              0.8888888888888888,
              "#fdca26"
             ],
             [
              1,
              "#f0f921"
             ]
            ],
            "type": "histogram2d"
           }
          ],
          "histogram2dcontour": [
           {
            "colorbar": {
             "outlinewidth": 0,
             "ticks": ""
            },
            "colorscale": [
             [
              0,
              "#0d0887"
             ],
             [
              0.1111111111111111,
              "#46039f"
             ],
             [
              0.2222222222222222,
              "#7201a8"
             ],
             [
              0.3333333333333333,
              "#9c179e"
             ],
             [
              0.4444444444444444,
              "#bd3786"
             ],
             [
              0.5555555555555556,
              "#d8576b"
             ],
             [
              0.6666666666666666,
              "#ed7953"
             ],
             [
              0.7777777777777778,
              "#fb9f3a"
             ],
             [
              0.8888888888888888,
              "#fdca26"
             ],
             [
              1,
              "#f0f921"
             ]
            ],
            "type": "histogram2dcontour"
           }
          ],
          "mesh3d": [
           {
            "colorbar": {
             "outlinewidth": 0,
             "ticks": ""
            },
            "type": "mesh3d"
           }
          ],
          "parcoords": [
           {
            "line": {
             "colorbar": {
              "outlinewidth": 0,
              "ticks": ""
             }
            },
            "type": "parcoords"
           }
          ],
          "pie": [
           {
            "automargin": true,
            "type": "pie"
           }
          ],
          "scatter": [
           {
            "marker": {
             "colorbar": {
              "outlinewidth": 0,
              "ticks": ""
             }
            },
            "type": "scatter"
           }
          ],
          "scatter3d": [
           {
            "line": {
             "colorbar": {
              "outlinewidth": 0,
              "ticks": ""
             }
            },
            "marker": {
             "colorbar": {
              "outlinewidth": 0,
              "ticks": ""
             }
            },
            "type": "scatter3d"
           }
          ],
          "scattercarpet": [
           {
            "marker": {
             "colorbar": {
              "outlinewidth": 0,
              "ticks": ""
             }
            },
            "type": "scattercarpet"
           }
          ],
          "scattergeo": [
           {
            "marker": {
             "colorbar": {
              "outlinewidth": 0,
              "ticks": ""
             }
            },
            "type": "scattergeo"
           }
          ],
          "scattergl": [
           {
            "marker": {
             "colorbar": {
              "outlinewidth": 0,
              "ticks": ""
             }
            },
            "type": "scattergl"
           }
          ],
          "scattermapbox": [
           {
            "marker": {
             "colorbar": {
              "outlinewidth": 0,
              "ticks": ""
             }
            },
            "type": "scattermapbox"
           }
          ],
          "scatterpolar": [
           {
            "marker": {
             "colorbar": {
              "outlinewidth": 0,
              "ticks": ""
             }
            },
            "type": "scatterpolar"
           }
          ],
          "scatterpolargl": [
           {
            "marker": {
             "colorbar": {
              "outlinewidth": 0,
              "ticks": ""
             }
            },
            "type": "scatterpolargl"
           }
          ],
          "scatterternary": [
           {
            "marker": {
             "colorbar": {
              "outlinewidth": 0,
              "ticks": ""
             }
            },
            "type": "scatterternary"
           }
          ],
          "surface": [
           {
            "colorbar": {
             "outlinewidth": 0,
             "ticks": ""
            },
            "colorscale": [
             [
              0,
              "#0d0887"
             ],
             [
              0.1111111111111111,
              "#46039f"
             ],
             [
              0.2222222222222222,
              "#7201a8"
             ],
             [
              0.3333333333333333,
              "#9c179e"
             ],
             [
              0.4444444444444444,
              "#bd3786"
             ],
             [
              0.5555555555555556,
              "#d8576b"
             ],
             [
              0.6666666666666666,
              "#ed7953"
             ],
             [
              0.7777777777777778,
              "#fb9f3a"
             ],
             [
              0.8888888888888888,
              "#fdca26"
             ],
             [
              1,
              "#f0f921"
             ]
            ],
            "type": "surface"
           }
          ],
          "table": [
           {
            "cells": {
             "fill": {
              "color": "#EBF0F8"
             },
             "line": {
              "color": "white"
             }
            },
            "header": {
             "fill": {
              "color": "#C8D4E3"
             },
             "line": {
              "color": "white"
             }
            },
            "type": "table"
           }
          ]
         },
         "layout": {
          "annotationdefaults": {
           "arrowcolor": "#2a3f5f",
           "arrowhead": 0,
           "arrowwidth": 1
          },
          "autotypenumbers": "strict",
          "coloraxis": {
           "colorbar": {
            "outlinewidth": 0,
            "ticks": ""
           }
          },
          "colorscale": {
           "diverging": [
            [
             0,
             "#8e0152"
            ],
            [
             0.1,
             "#c51b7d"
            ],
            [
             0.2,
             "#de77ae"
            ],
            [
             0.3,
             "#f1b6da"
            ],
            [
             0.4,
             "#fde0ef"
            ],
            [
             0.5,
             "#f7f7f7"
            ],
            [
             0.6,
             "#e6f5d0"
            ],
            [
             0.7,
             "#b8e186"
            ],
            [
             0.8,
             "#7fbc41"
            ],
            [
             0.9,
             "#4d9221"
            ],
            [
             1,
             "#276419"
            ]
           ],
           "sequential": [
            [
             0,
             "#0d0887"
            ],
            [
             0.1111111111111111,
             "#46039f"
            ],
            [
             0.2222222222222222,
             "#7201a8"
            ],
            [
             0.3333333333333333,
             "#9c179e"
            ],
            [
             0.4444444444444444,
             "#bd3786"
            ],
            [
             0.5555555555555556,
             "#d8576b"
            ],
            [
             0.6666666666666666,
             "#ed7953"
            ],
            [
             0.7777777777777778,
             "#fb9f3a"
            ],
            [
             0.8888888888888888,
             "#fdca26"
            ],
            [
             1,
             "#f0f921"
            ]
           ],
           "sequentialminus": [
            [
             0,
             "#0d0887"
            ],
            [
             0.1111111111111111,
             "#46039f"
            ],
            [
             0.2222222222222222,
             "#7201a8"
            ],
            [
             0.3333333333333333,
             "#9c179e"
            ],
            [
             0.4444444444444444,
             "#bd3786"
            ],
            [
             0.5555555555555556,
             "#d8576b"
            ],
            [
             0.6666666666666666,
             "#ed7953"
            ],
            [
             0.7777777777777778,
             "#fb9f3a"
            ],
            [
             0.8888888888888888,
             "#fdca26"
            ],
            [
             1,
             "#f0f921"
            ]
           ]
          },
          "colorway": [
           "#636efa",
           "#EF553B",
           "#00cc96",
           "#ab63fa",
           "#FFA15A",
           "#19d3f3",
           "#FF6692",
           "#B6E880",
           "#FF97FF",
           "#FECB52"
          ],
          "font": {
           "color": "#2a3f5f"
          },
          "geo": {
           "bgcolor": "white",
           "lakecolor": "white",
           "landcolor": "#E5ECF6",
           "showlakes": true,
           "showland": true,
           "subunitcolor": "white"
          },
          "hoverlabel": {
           "align": "left"
          },
          "hovermode": "closest",
          "mapbox": {
           "style": "light"
          },
          "paper_bgcolor": "white",
          "plot_bgcolor": "#E5ECF6",
          "polar": {
           "angularaxis": {
            "gridcolor": "white",
            "linecolor": "white",
            "ticks": ""
           },
           "bgcolor": "#E5ECF6",
           "radialaxis": {
            "gridcolor": "white",
            "linecolor": "white",
            "ticks": ""
           }
          },
          "scene": {
           "xaxis": {
            "backgroundcolor": "#E5ECF6",
            "gridcolor": "white",
            "gridwidth": 2,
            "linecolor": "white",
            "showbackground": true,
            "ticks": "",
            "zerolinecolor": "white"
           },
           "yaxis": {
            "backgroundcolor": "#E5ECF6",
            "gridcolor": "white",
            "gridwidth": 2,
            "linecolor": "white",
            "showbackground": true,
            "ticks": "",
            "zerolinecolor": "white"
           },
           "zaxis": {
            "backgroundcolor": "#E5ECF6",
            "gridcolor": "white",
            "gridwidth": 2,
            "linecolor": "white",
            "showbackground": true,
            "ticks": "",
            "zerolinecolor": "white"
           }
          },
          "shapedefaults": {
           "line": {
            "color": "#2a3f5f"
           }
          },
          "ternary": {
           "aaxis": {
            "gridcolor": "white",
            "linecolor": "white",
            "ticks": ""
           },
           "baxis": {
            "gridcolor": "white",
            "linecolor": "white",
            "ticks": ""
           },
           "bgcolor": "#E5ECF6",
           "caxis": {
            "gridcolor": "white",
            "linecolor": "white",
            "ticks": ""
           }
          },
          "title": {
           "x": 0.05
          },
          "xaxis": {
           "automargin": true,
           "gridcolor": "white",
           "linecolor": "white",
           "ticks": "",
           "title": {
            "standoff": 15
           },
           "zerolinecolor": "white",
           "zerolinewidth": 2
          },
          "yaxis": {
           "automargin": true,
           "gridcolor": "white",
           "linecolor": "white",
           "ticks": "",
           "title": {
            "standoff": 15
           },
           "zerolinecolor": "white",
           "zerolinewidth": 2
          }
         }
        },
        "xaxis": {
         "anchor": "y",
         "autorange": true,
         "domain": [
          0,
          1
         ],
         "range": [
          -0.01844063482557269,
          0.31499999999999995
         ],
         "title": {
          "text": "value"
         },
         "type": "linear"
        },
        "yaxis": {
         "anchor": "x",
         "autorange": true,
         "domain": [
          0,
          1
         ],
         "range": [
          -6.224341507720254,
          94.01180744777474
         ],
         "title": {
          "text": "count"
         },
         "type": "linear"
        }
       }
      },
      "image/png": "[encoded data removed]",
      "text/html": [
       "<div>                            <div id=\"ce6fd4b1-459b-4031-a18e-cbbd64d69e64\" class=\"plotly-graph-div\" style=\"height:525px; width:100%;\"></div>            <script type=\"text/javascript\">                require([\"plotly\"], function(Plotly) {                    window.PLOTLYENV=window.PLOTLYENV || {};                                    if (document.getElementById(\"ce6fd4b1-459b-4031-a18e-cbbd64d69e64\")) {                    Plotly.newPlot(                        \"ce6fd4b1-459b-4031-a18e-cbbd64d69e64\",                        [{\"alignmentgroup\": \"True\", \"bingroup\": \"x\", \"hovertemplate\": \"variable=0<br>value=%{x}<br>count=%{y}<extra></extra>\", \"legendgroup\": \"0\", \"marker\": {\"color\": \"#636efa\"}, \"name\": \"0\", \"offsetgroup\": \"0\", \"orientation\": \"v\", \"showlegend\": true, \"type\": \"histogram\", \"x\": [0.05, 0.01, 0.01, 0.08, 0.05, 0.12, 0.05, 0.14, 0.02, 0.04, 0.07, 0.08, 0.05, 0.15, 0.12, 0.09, 0.06, 0.02, 0.01, 0.14, 0.12, 0.04, 0.08, 0.05, 0.12, 0.14, 0.11, 0.23, 0.04, 0.16, 0.1, 0.06, 0.14, 0.02, 0.02, 0.07, 0.01, 0.14, 0.04, 0.05, 0.14, 0.09, 0.07, 0.08, 0.03, 0.16, 0.17, 0.1, 0.07, 0.08, 0.06, 0.09, 0.14, 0.06, 0.06, 0.1, 0.14, 0.13, 0.05, 0.07, 0.02, 0.14, 0.0, 0.15, 0.07, 0.09, 0.07, 0.11, 0.07, 0.13, 0.06, 0.06, 0.1, 0.15, 0.05, 0.04, 0.03, 0.1, 0.05, 0.13, 0.09, 0.06, 0.02, 0.12, 0.23, 0.19, 0.12, 0.13, 0.08, 0.08, 0.04, 0.04, 0.12, 0.23, 0.06, 0.11, 0.03, 0.05, 0.09, 0.15, 0.04, 0.13, 0.01, 0.14, 0.07, 0.04, 0.18, 0.03, 0.02, 0.11, 0.16, 0.06, 0.17, 0.13, 0.03, 0.12, 0.19, 0.01, 0.16, 0.1, 0.05, 0.13, 0.14, 0.1, 0.11, 0.0, 0.08, 0.03, 0.07, 0.03, 0.12, 0.01, 0.06, 0.07, 0.02, 0.1, 0.07, 0.15, 0.17, 0.13, 0.06, 0.12, 0.04, 0.06, 0.04, 0.07, 0.06, 0.12, 0.02, 0.04, 0.01, 0.01, 0.12, 0.09, 0.06, 0.1, 0.11, 0.12, 0.11, 0.1, 0.07, 0.01, 0.06, 0.07, 0.05, 0.01, 0.06, 0.09, 0.05, 0.19, 0.06, 0.12, 0.17, 0.06, 0.04, 0.08, 0.21, 0.08, 0.04, 0.11, 0.13, 0.03, 0.05, 0.05, 0.06, 0.17, 0.1, 0.26, 0.03, 0.04, 0.06, 0.14, 0.06, 0.14, 0.11, 0.02, 0.04, 0.08, 0.18, 0.18, 0.07, 0.16, 0.05, 0.06, 0.11, 0.07, 0.11, 0.1, 0.13, 0.11, 0.22, 0.1, 0.15, 0.14, 0.0, 0.07, 0.17, 0.11, 0.11, 0.1, 0.07, 0.04, 0.12, 0.04, 0.15, 0.05, 0.03, 0.07, 0.0, 0.07, 0.07, 0.06, 0.06, 0.04, 0.05, 0.12, 0.18, 0.02, 0.02, 0.0, 0.04, 0.13, 0.03, 0.17, 0.07, 0.08, 0.05, 0.05, 0.06, 0.18, 0.17, 0.08, 0.18, 0.09, 0.08, 0.1, 0.05, 0.04, 0.06, 0.13, 0.1, 0.21, 0.15, 0.01, 0.02, 0.02, 0.12, 0.06, 0.06, 0.05, 0.12, 0.07, 0.03, 0.19, 0.03, 0.17, 0.1, 0.18, 0.02, 0.24, 0.26, 0.03, 0.08, 0.06, 0.07, 0.15, 0.13, 0.03, 0.1, 0.04, 0.11, 0.2, 0.0, 0.04, 0.0, 0.05, 0.12, 0.06, 0.09, 0.08, 0.05, 0.1, 0.01, 0.02, 0.23, 0.15, 0.1, 0.18, 0.07, 0.06, 0.16, 0.15, 0.02, 0.04, 0.04, 0.06, 0.14, 0.04, 0.17, 0.03, 0.03, 0.03, 0.18, 0.03, 0.0, 0.08, 0.01, 0.1, 0.03, 0.02, 0.03, 0.01, 0.14, 0.08, 0.03, 0.13, 0.06, 0.19, 0.03, 0.08, 0.14, 0.07, 0.1, 0.03, 0.14, 0.01, 0.04, 0.19, 0.0, 0.08, 0.16, 0.07, 0.06, 0.07, 0.07, 0.04, 0.13, 0.07, 0.01, 0.05, 0.02, 0.07, 0.03, 0.1, 0.17, 0.1, 0.02, 0.05, 0.05, 0.09, 0.16, 0.02, 0.02, 0.06, 0.08, 0.02, 0.05, 0.08, 0.02, 0.1, 0.04, 0.12, 0.19, 0.06, 0.14, 0.07, 0.04, 0.18, 0.06, 0.28, 0.05, 0.1, 0.11, 0.06, 0.13, 0.1, 0.03, 0.01, 0.03, 0.07, 0.01, 0.06, 0.01, 0.17, 0.08, 0.02, 0.04, 0.06, 0.03, 0.1, 0.05, 0.06, 0.0, 0.11, 0.09, 0.04, 0.1, 0.12, 0.14, 0.04, 0.04, 0.15, 0.09, 0.14, 0.04, 0.05, 0.06, 0.16, 0.1, 0.08, 0.08, 0.12, 0.05, 0.03, 0.06, 0.09, 0.12, 0.11, 0.01, 0.05, 0.06, 0.09, 0.1, 0.02, 0.05, 0.11, 0.06, 0.07, 0.06, 0.04, 0.02, 0.03, 0.13, 0.03, 0.06, 0.05, 0.04, 0.07, 0.03, 0.06, 0.31, 0.11, 0.27, 0.11, 0.06, 0.03, 0.08, 0.01, 0.13, 0.02, 0.04, 0.1, 0.01, 0.12, 0.07, 0.04, 0.01, 0.03, 0.05, 0.05, 0.03, 0.14, 0.05, 0.05, 0.05, 0.17, 0.09, 0.1, 0.04, 0.03, 0.1, 0.09, 0.05, 0.03, 0.05, 0.11, 0.03, 0.05, 0.07, 0.08, 0.1, 0.07, 0.05, 0.02, 0.07, 0.02, 0.13, 0.12, 0.07, 0.09, 0.0, 0.0, 0.15, 0.08, 0.07, 0.0, 0.07, 0.04, 0.11, 0.0, 0.19, 0.12, 0.01, 0.03, 0.06, 0.01, 0.16, 0.11, 0.05, 0.09, 0.1, 0.04, 0.05, 0.09, 0.06, 0.06, 0.13, 0.14, 0.07, 0.14, 0.01, 0.07, 0.03, 0.05, 0.12, 0.04, 0.12, 0.21, 0.1, 0.0, 0.09, 0.19, 0.11, 0.18, 0.14, 0.04, 0.13, 0.21, 0.14, 0.06, 0.04, 0.07, 0.06, 0.07, 0.03, 0.14, 0.12, 0.03, 0.13, 0.06, 0.07, 0.15, 0.13, 0.04, 0.05, 0.19, 0.04, 0.05, 0.01, 0.07, 0.14, 0.1, 0.07, 0.15, 0.06, 0.02, 0.01, 0.08, 0.16, 0.08, 0.03, 0.06, 0.13, 0.08, 0.04, 0.06, 0.03, 0.01, 0.08, 0.1, 0.05, 0.03, 0.1, 0.13, 0.04, 0.04, 0.14, 0.1, 0.09, 0.04, 0.07, 0.1, 0.17, 0.02, 0.1, 0.14, 0.05, 0.25, 0.08, 0.1, 0.06, 0.15, 0.07, 0.06, 0.07, 0.14, 0.14, 0.13, 0.14, 0.13, 0.08, 0.01, 0.06, 0.05, 0.01, 0.14, 0.11, 0.2, 0.05, 0.09, 0.03, 0.12, 0.08, 0.12, 0.11, 0.05, 0.06, 0.1, 0.01, 0.08, 0.01, 0.1, 0.15, 0.03, 0.14, 0.04, 0.02, 0.18, 0.1, 0.12, 0.07, 0.06, 0.01, 0.04, 0.03, 0.09, 0.16, 0.1, 0.04, 0.02, 0.05, 0.18, 0.02, 0.05, 0.17, 0.1, 0.1, 0.09, 0.09, 0.17, 0.1, 0.03, 0.1, 0.1, 0.16, 0.07, 0.06, 0.05, 0.15, 0.04, 0.13, 0.03, 0.12, 0.16, 0.08, 0.03, 0.11, 0.05, 0.12, 0.03, 0.07, 0.02, 0.13, 0.2, 0.15, 0.03, 0.09, 0.02, 0.1, 0.05, 0.03, 0.08, 0.22, 0.17, 0.06, 0.04, 0.15, 0.1, 0.03, 0.16, 0.14, 0.07, 0.01, 0.09, 0.04, 0.06, 0.15, 0.04, 0.09, 0.1, 0.09, 0.06, 0.04, 0.04, 0.03, 0.1, 0.05, 0.09, 0.01, 0.06, 0.06, 0.06, 0.04, 0.02, 0.09, 0.12, 0.09, 0.18, 0.09, 0.04, 0.1, 0.14, 0.03, 0.08, 0.06, 0.11, 0.12, 0.08, 0.07, 0.22, 0.01, 0.13, 0.01, 0.14, 0.04, 0.02, 0.08, 0.09, 0.05, 0.05, 0.05, 0.09, 0.06, 0.09, 0.11, 0.02, 0.08, 0.23, 0.11, 0.11, 0.01, 0.11, 0.05, 0.2, 0.09, 0.04, 0.08, 0.08, 0.07, 0.04, 0.17, 0.07, 0.07, 0.03, 0.13, 0.12, 0.09, 0.1, 0.07, 0.05, 0.07, 0.05, 0.03, 0.09, 0.05, 0.18, 0.03, 0.05, 0.06, 0.05, 0.08, 0.13, 0.05, 0.03, 0.11, 0.03, 0.02, 0.14, 0.07, 0.04, 0.05, 0.14, 0.09, 0.02, 0.1, 0.06, 0.12, 0.07, 0.03, 0.02, 0.06, 0.05, 0.03, 0.08, 0.07, 0.13, 0.08, 0.1, 0.04, 0.07, 0.14, 0.05, 0.04, 0.09, 0.19, 0.0, 0.08, 0.16, 0.05, 0.04, 0.06, 0.06, 0.05, 0.04, 0.04, 0.09, 0.15, 0.08, 0.01, 0.02, 0.2, 0.11, 0.13, 0.1, 0.03, 0.03, 0.03, 0.08, 0.09, 0.08, 0.17, 0.0, 0.08, 0.1, 0.03, 0.03, 0.11, 0.05, 0.02, 0.05, 0.04, 0.15, 0.17, 0.01, 0.02, 0.05, 0.06, 0.04, 0.17, 0.08, 0.11, 0.09, 0.09, 0.17, 0.22, 0.05, 0.25, 0.01, 0.09, 0.0, 0.02, 0.03, 0.15, 0.06, 0.09, 0.11, 0.1, 0.11, 0.07, 0.07, 0.06, 0.13, 0.15, 0.09, 0.07, 0.06, 0.2, 0.15, 0.29, 0.08, 0.05, 0.07, 0.09, 0.05, 0.07, 0.04, 0.06, 0.14, 0.05, 0.11, 0.02, 0.03, 0.03, 0.13, 0.08, 0.04, 0.05, 0.05, 0.16, 0.03, 0.26, 0.14, 0.07, 0.03, 0.13, 0.16, 0.04, 0.09, 0.06, 0.18, 0.07, 0.08, 0.15, 0.01, 0.13, 0.05, 0.02, 0.05, 0.07, 0.07, 0.04, 0.08, 0.02, 0.06, 0.02, 0.09, 0.04, 0.02, 0.13, 0.07, 0.12, 0.09, 0.04, 0.07, 0.07, 0.07, 0.05, 0.1, 0.09, 0.08, 0.03, 0.27, 0.1, 0.06, 0.11, 0.06, 0.18, 0.08, 0.06, 0.09, 0.03, 0.05, 0.06, 0.11, 0.1, 0.01, 0.09, 0.03, 0.07, 0.12], \"xaxis\": \"x\", \"yaxis\": \"y\"}, {\"type\": \"scatter\", \"x\": [0, 0], \"y\": [0, 60]}],                        {\"barmode\": \"relative\", \"legend\": {\"title\": {\"text\": \"variable\"}, \"tracegroupgap\": 0}, \"margin\": {\"t\": 60}, \"shapes\": [{\"line\": {\"dash\": \"dash\"}, \"type\": \"line\", \"x0\": 0.08217000000000002, \"x1\": 0.08217000000000002, \"xref\": \"x\", \"y0\": 0, \"y1\": 1, \"yref\": \"y domain\"}], \"template\": {\"data\": {\"bar\": [{\"error_x\": {\"color\": \"#2a3f5f\"}, \"error_y\": {\"color\": \"#2a3f5f\"}, \"marker\": {\"line\": {\"color\": \"#E5ECF6\", \"width\": 0.5}}, \"type\": \"bar\"}], \"barpolar\": [{\"marker\": {\"line\": {\"color\": \"#E5ECF6\", \"width\": 0.5}}, \"type\": \"barpolar\"}], \"carpet\": [{\"aaxis\": {\"endlinecolor\": \"#2a3f5f\", \"gridcolor\": \"white\", \"linecolor\": \"white\", \"minorgridcolor\": \"white\", \"startlinecolor\": \"#2a3f5f\"}, \"baxis\": {\"endlinecolor\": \"#2a3f5f\", \"gridcolor\": \"white\", \"linecolor\": \"white\", \"minorgridcolor\": \"white\", \"startlinecolor\": \"#2a3f5f\"}, \"type\": \"carpet\"}], \"choropleth\": [{\"colorbar\": {\"outlinewidth\": 0, \"ticks\": \"\"}, \"type\": \"choropleth\"}], \"contour\": [{\"colorbar\": {\"outlinewidth\": 0, \"ticks\": \"\"}, \"colorscale\": [[0.0, \"#0d0887\"], [0.1111111111111111, \"#46039f\"], [0.2222222222222222, \"#7201a8\"], [0.3333333333333333, \"#9c179e\"], [0.4444444444444444, \"#bd3786\"], [0.5555555555555556, \"#d8576b\"], [0.6666666666666666, \"#ed7953\"], [0.7777777777777778, \"#fb9f3a\"], [0.8888888888888888, \"#fdca26\"], [1.0, \"#f0f921\"]], \"type\": \"contour\"}], \"contourcarpet\": [{\"colorbar\": {\"outlinewidth\": 0, \"ticks\": \"\"}, \"type\": \"contourcarpet\"}], \"heatmap\": [{\"colorbar\": {\"outlinewidth\": 0, \"ticks\": \"\"}, \"colorscale\": [[0.0, \"#0d0887\"], [0.1111111111111111, \"#46039f\"], [0.2222222222222222, \"#7201a8\"], [0.3333333333333333, \"#9c179e\"], [0.4444444444444444, \"#bd3786\"], [0.5555555555555556, \"#d8576b\"], [0.6666666666666666, \"#ed7953\"], [0.7777777777777778, \"#fb9f3a\"], [0.8888888888888888, \"#fdca26\"], [1.0, \"#f0f921\"]], \"type\": \"heatmap\"}], \"heatmapgl\": [{\"colorbar\": {\"outlinewidth\": 0, \"ticks\": \"\"}, \"colorscale\": [[0.0, \"#0d0887\"], [0.1111111111111111, \"#46039f\"], [0.2222222222222222, \"#7201a8\"], [0.3333333333333333, \"#9c179e\"], [0.4444444444444444, \"#bd3786\"], [0.5555555555555556, \"#d8576b\"], [0.6666666666666666, \"#ed7953\"], [0.7777777777777778, \"#fb9f3a\"], [0.8888888888888888, \"#fdca26\"], [1.0, \"#f0f921\"]], \"type\": \"heatmapgl\"}], \"histogram\": [{\"marker\": {\"colorbar\": {\"outlinewidth\": 0, \"ticks\": \"\"}}, \"type\": \"histogram\"}], \"histogram2d\": [{\"colorbar\": {\"outlinewidth\": 0, \"ticks\": \"\"}, \"colorscale\": [[0.0, \"#0d0887\"], [0.1111111111111111, \"#46039f\"], [0.2222222222222222, \"#7201a8\"], [0.3333333333333333, \"#9c179e\"], [0.4444444444444444, \"#bd3786\"], [0.5555555555555556, \"#d8576b\"], [0.6666666666666666, \"#ed7953\"], [0.7777777777777778, \"#fb9f3a\"], [0.8888888888888888, \"#fdca26\"], [1.0, \"#f0f921\"]], \"type\": \"histogram2d\"}], \"histogram2dcontour\": [{\"colorbar\": {\"outlinewidth\": 0, \"ticks\": \"\"}, \"colorscale\": [[0.0, \"#0d0887\"], [0.1111111111111111, \"#46039f\"], [0.2222222222222222, \"#7201a8\"], [0.3333333333333333, \"#9c179e\"], [0.4444444444444444, \"#bd3786\"], [0.5555555555555556, \"#d8576b\"], [0.6666666666666666, \"#ed7953\"], [0.7777777777777778, \"#fb9f3a\"], [0.8888888888888888, \"#fdca26\"], [1.0, \"#f0f921\"]], \"type\": \"histogram2dcontour\"}], \"mesh3d\": [{\"colorbar\": {\"outlinewidth\": 0, \"ticks\": \"\"}, \"type\": \"mesh3d\"}], \"parcoords\": [{\"line\": {\"colorbar\": {\"outlinewidth\": 0, \"ticks\": \"\"}}, \"type\": \"parcoords\"}], \"pie\": [{\"automargin\": true, \"type\": \"pie\"}], \"scatter\": [{\"marker\": {\"colorbar\": {\"outlinewidth\": 0, \"ticks\": \"\"}}, \"type\": \"scatter\"}], \"scatter3d\": [{\"line\": {\"colorbar\": {\"outlinewidth\": 0, \"ticks\": \"\"}}, \"marker\": {\"colorbar\": {\"outlinewidth\": 0, \"ticks\": \"\"}}, \"type\": \"scatter3d\"}], \"scattercarpet\": [{\"marker\": {\"colorbar\": {\"outlinewidth\": 0, \"ticks\": \"\"}}, \"type\": \"scattercarpet\"}], \"scattergeo\": [{\"marker\": {\"colorbar\": {\"outlinewidth\": 0, \"ticks\": \"\"}}, \"type\": \"scattergeo\"}], \"scattergl\": [{\"marker\": {\"colorbar\": {\"outlinewidth\": 0, \"ticks\": \"\"}}, \"type\": \"scattergl\"}], \"scattermapbox\": [{\"marker\": {\"colorbar\": {\"outlinewidth\": 0, \"ticks\": \"\"}}, \"type\": \"scattermapbox\"}], \"scatterpolar\": [{\"marker\": {\"colorbar\": {\"outlinewidth\": 0, \"ticks\": \"\"}}, \"type\": \"scatterpolar\"}], \"scatterpolargl\": [{\"marker\": {\"colorbar\": {\"outlinewidth\": 0, \"ticks\": \"\"}}, \"type\": \"scatterpolargl\"}], \"scatterternary\": [{\"marker\": {\"colorbar\": {\"outlinewidth\": 0, \"ticks\": \"\"}}, \"type\": \"scatterternary\"}], \"surface\": [{\"colorbar\": {\"outlinewidth\": 0, \"ticks\": \"\"}, \"colorscale\": [[0.0, \"#0d0887\"], [0.1111111111111111, \"#46039f\"], [0.2222222222222222, \"#7201a8\"], [0.3333333333333333, \"#9c179e\"], [0.4444444444444444, \"#bd3786\"], [0.5555555555555556, \"#d8576b\"], [0.6666666666666666, \"#ed7953\"], [0.7777777777777778, \"#fb9f3a\"], [0.8888888888888888, \"#fdca26\"], [1.0, \"#f0f921\"]], \"type\": \"surface\"}], \"table\": [{\"cells\": {\"fill\": {\"color\": \"#EBF0F8\"}, \"line\": {\"color\": \"white\"}}, \"header\": {\"fill\": {\"color\": \"#C8D4E3\"}, \"line\": {\"color\": \"white\"}}, \"type\": \"table\"}]}, \"layout\": {\"annotationdefaults\": {\"arrowcolor\": \"#2a3f5f\", \"arrowhead\": 0, \"arrowwidth\": 1}, \"autotypenumbers\": \"strict\", \"coloraxis\": {\"colorbar\": {\"outlinewidth\": 0, \"ticks\": \"\"}}, \"colorscale\": {\"diverging\": [[0, \"#8e0152\"], [0.1, \"#c51b7d\"], [0.2, \"#de77ae\"], [0.3, \"#f1b6da\"], [0.4, \"#fde0ef\"], [0.5, \"#f7f7f7\"], [0.6, \"#e6f5d0\"], [0.7, \"#b8e186\"], [0.8, \"#7fbc41\"], [0.9, \"#4d9221\"], [1, \"#276419\"]], \"sequential\": [[0.0, \"#0d0887\"], [0.1111111111111111, \"#46039f\"], [0.2222222222222222, \"#7201a8\"], [0.3333333333333333, \"#9c179e\"], [0.4444444444444444, \"#bd3786\"], [0.5555555555555556, \"#d8576b\"], [0.6666666666666666, \"#ed7953\"], [0.7777777777777778, \"#fb9f3a\"], [0.8888888888888888, \"#fdca26\"], [1.0, \"#f0f921\"]], \"sequentialminus\": [[0.0, \"#0d0887\"], [0.1111111111111111, \"#46039f\"], [0.2222222222222222, \"#7201a8\"], [0.3333333333333333, \"#9c179e\"], [0.4444444444444444, \"#bd3786\"], [0.5555555555555556, \"#d8576b\"], [0.6666666666666666, \"#ed7953\"], [0.7777777777777778, \"#fb9f3a\"], [0.8888888888888888, \"#fdca26\"], [1.0, \"#f0f921\"]]}, \"colorway\": [\"#636efa\", \"#EF553B\", \"#00cc96\", \"#ab63fa\", \"#FFA15A\", \"#19d3f3\", \"#FF6692\", \"#B6E880\", \"#FF97FF\", \"#FECB52\"], \"font\": {\"color\": \"#2a3f5f\"}, \"geo\": {\"bgcolor\": \"white\", \"lakecolor\": \"white\", \"landcolor\": \"#E5ECF6\", \"showlakes\": true, \"showland\": true, \"subunitcolor\": \"white\"}, \"hoverlabel\": {\"align\": \"left\"}, \"hovermode\": \"closest\", \"mapbox\": {\"style\": \"light\"}, \"paper_bgcolor\": \"white\", \"plot_bgcolor\": \"#E5ECF6\", \"polar\": {\"angularaxis\": {\"gridcolor\": \"white\", \"linecolor\": \"white\", \"ticks\": \"\"}, \"bgcolor\": \"#E5ECF6\", \"radialaxis\": {\"gridcolor\": \"white\", \"linecolor\": \"white\", \"ticks\": \"\"}}, \"scene\": {\"xaxis\": {\"backgroundcolor\": \"#E5ECF6\", \"gridcolor\": \"white\", \"gridwidth\": 2, \"linecolor\": \"white\", \"showbackground\": true, \"ticks\": \"\", \"zerolinecolor\": \"white\"}, \"yaxis\": {\"backgroundcolor\": \"#E5ECF6\", \"gridcolor\": \"white\", \"gridwidth\": 2, \"linecolor\": \"white\", \"showbackground\": true, \"ticks\": \"\", \"zerolinecolor\": \"white\"}, \"zaxis\": {\"backgroundcolor\": \"#E5ECF6\", \"gridcolor\": \"white\", \"gridwidth\": 2, \"linecolor\": \"white\", \"showbackground\": true, \"ticks\": \"\", \"zerolinecolor\": \"white\"}}, \"shapedefaults\": {\"line\": {\"color\": \"#2a3f5f\"}}, \"ternary\": {\"aaxis\": {\"gridcolor\": \"white\", \"linecolor\": \"white\", \"ticks\": \"\"}, \"baxis\": {\"gridcolor\": \"white\", \"linecolor\": \"white\", \"ticks\": \"\"}, \"bgcolor\": \"#E5ECF6\", \"caxis\": {\"gridcolor\": \"white\", \"linecolor\": \"white\", \"ticks\": \"\"}}, \"title\": {\"x\": 0.05}, \"xaxis\": {\"automargin\": true, \"gridcolor\": \"white\", \"linecolor\": \"white\", \"ticks\": \"\", \"title\": {\"standoff\": 15}, \"zerolinecolor\": \"white\", \"zerolinewidth\": 2}, \"yaxis\": {\"automargin\": true, \"gridcolor\": \"white\", \"linecolor\": \"white\", \"ticks\": \"\", \"title\": {\"standoff\": 15}, \"zerolinecolor\": \"white\", \"zerolinewidth\": 2}}}, \"xaxis\": {\"anchor\": \"y\", \"domain\": [0.0, 1.0], \"title\": {\"text\": \"value\"}}, \"yaxis\": {\"anchor\": \"x\", \"domain\": [0.0, 1.0], \"title\": {\"text\": \"count\"}}},                        {\"responsive\": true}                    ).then(function(){\n",
       "                            \n",
       "var gd = document.getElementById('ce6fd4b1-459b-4031-a18e-cbbd64d69e64');\n",
       "var x = new MutationObserver(function (mutations, observer) {{\n",
       "        var display = window.getComputedStyle(gd).display;\n",
       "        if (!display || display === 'none') {{\n",
       "            console.log([gd, 'removed!']);\n",
       "            Plotly.purge(gd);\n",
       "            observer.disconnect();\n",
       "        }}\n",
       "}});\n",
       "\n",
       "// Listen for the removal of the full notebook cells\n",
       "var notebookContainer = gd.closest('#notebook-container');\n",
       "if (notebookContainer) {{\n",
       "    x.observe(notebookContainer, {childList: true});\n",
       "}}\n",
       "\n",
       "// Listen for the clearing of the current output cell\n",
       "var outputEl = gd.closest('.output');\n",
       "if (outputEl) {{\n",
       "    x.observe(outputEl, {childList: true});\n",
       "}}\n",
       "\n",
       "                        })                };                });            </script>        </div>"
      ]
     },
     "metadata": {},
     "output_type": "display_data"
    }
   ],
   "source": [
    "import plotly.express as px\n",
    "import plotly.graph_objects as go\n",
    "\n",
    "df = H\n",
    "fig = px.histogram(df)\n",
    "fig.add_vline(x=sum(H)/1000,line_dash=\"dash\")\n",
    "fig.add_scatter(x = [0,0], y = [0,60])\n",
    "fig.show()"
   ]
  },
  {
   "cell_type": "code",
   "execution_count": null,
   "metadata": {},
   "outputs": [],
   "source": []
  },
  {
   "cell_type": "code",
   "execution_count": 12,
   "metadata": {},
   "outputs": [
    {
     "data": {
      "text/plain": [
       "[[1, 6, 3, 1, 1, 2],\n",
       " [6, 3, 3, 2, 3, 1],\n",
       " [4, 2, 4, 6, 2, 3],\n",
       " [6, 4, 1, 3, 1, 6],\n",
       " [2, 4, 1, 4, 3, 4],\n",
       " [1, 3, 6, 1, 3, 3],\n",
       " [1, 3, 5, 2, 4, 3],\n",
       " [3, 5, 5, 4, 1, 6],\n",
       " [1, 3, 5, 6, 2, 6],\n",
       " [3, 6, 3, 5, 1, 6]]"
      ]
     },
     "execution_count": 12,
     "metadata": {},
     "output_type": "execute_result"
    }
   ],
   "source": [
    "B = [gen() for i in range(10)]\n",
    "B"
   ]
  },
  {
   "cell_type": "code",
   "execution_count": 14,
   "metadata": {},
   "outputs": [
    {
     "data": {
      "text/plain": [
       "[[6, 1],\n",
       " [6, 3, 3],\n",
       " [4, 4, 6, 2],\n",
       " [6, 4, 6],\n",
       " [4, 4, 4],\n",
       " [6, 3, 3],\n",
       " [4, 3],\n",
       " [4, 6],\n",
       " [6, 6],\n",
       " [6, 3, 6]]"
      ]
     },
     "execution_count": 14,
     "metadata": {},
     "output_type": "execute_result"
    }
   ],
   "source": [
    "res = [diff(b,a) for b in B]\n",
    "res"
   ]
  },
  {
   "cell_type": "code",
   "execution_count": 52,
   "metadata": {},
   "outputs": [
    {
     "ename": "ValueError",
     "evalue": "list.remove(x): x not in list",
     "output_type": "error",
     "traceback": [
      "\u001b[1;31m---------------------------------------------------------------------------\u001b[0m",
      "\u001b[1;31mValueError\u001b[0m                                Traceback (most recent call last)",
      "\u001b[1;32m<ipython-input-52-b5608789f21a>\u001b[0m in \u001b[0;36m<module>\u001b[1;34m\u001b[0m\n\u001b[1;32m----> 1\u001b[1;33m \u001b[0ma\u001b[0m\u001b[1;33m.\u001b[0m\u001b[0mremove\u001b[0m\u001b[1;33m(\u001b[0m\u001b[1;36m6\u001b[0m\u001b[1;33m)\u001b[0m\u001b[1;33m\u001b[0m\u001b[1;33m\u001b[0m\u001b[0m\n\u001b[0m",
      "\u001b[1;31mValueError\u001b[0m: list.remove(x): x not in list"
     ]
    }
   ],
   "source": [
    "a.remove(6)"
   ]
  },
  {
   "cell_type": "code",
   "execution_count": null,
   "metadata": {},
   "outputs": [],
   "source": []
  }
 ],
 "metadata": {
  "kernelspec": {
   "display_name": "Python 3.8 (XPython)",
   "language": "python",
   "name": "xpython"
  },
  "language_info": {
   "file_extension": ".py",
   "mimetype": "text/x-python",
   "name": "python",
   "version": "3.8.8"
  }
 },
 "nbformat": 4,
 "nbformat_minor": 4
}
