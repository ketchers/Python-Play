{
 "cells": [
  {
   "cell_type": "code",
   "execution_count": 86,
   "metadata": {},
   "outputs": [],
   "source": [
    "from itertools import tee\n",
    "from types import GeneratorType\n",
    "\n",
    "def memoized(f):\n",
    "    cache={}\n",
    "    def ret(*args):\n",
    "        if args not in cache:\n",
    "            cache[args] = f(*args)\n",
    "        if isinstance(cache[args], (GeneratorType, Tee)):\n",
    "            # the original can't be used any more,\n",
    "            # so we need to change the cache as well\n",
    "            cache[args], r = tee(cache[args])\n",
    "            return r\n",
    "        return cache[args]\n",
    "    return ret"
   ]
  },
  {
   "cell_type": "code",
   "execution_count": 189,
   "metadata": {},
   "outputs": [],
   "source": [
    "def subSets(n):\n",
    "    S = []\n",
    "    yield S\n",
    "    prev = -1\n",
    "    while(True):\n",
    "        if prev + 1 < n:\n",
    "            S += [prev + 1];\n",
    "            prev += 1\n",
    "            yield S\n",
    "        else:\n",
    "            if len(S) > 0:\n",
    "                prev = S.pop(-1)\n",
    "            else:\n",
    "                break\n",
    "        \n",
    "            \n",
    "    "
   ]
  },
  {
   "cell_type": "code",
   "execution_count": 209,
   "metadata": {},
   "outputs": [
    {
     "data": {
      "text/plain": [
       "[[],\n",
       " [0],\n",
       " [0, 1],\n",
       " [0, 1, 2],\n",
       " [0, 1, 2, 3],\n",
       " [0, 1, 2, 3, 4],\n",
       " [0, 1, 2, 3, 4, 5],\n",
       " [0, 1, 2, 3, 5],\n",
       " [0, 1, 2, 4],\n",
       " [0, 1, 2, 4, 5],\n",
       " [0, 1, 2, 5],\n",
       " [0, 1, 3],\n",
       " [0, 1, 3, 4],\n",
       " [0, 1, 3, 4, 5],\n",
       " [0, 1, 3, 5],\n",
       " [0, 1, 4],\n",
       " [0, 1, 4, 5],\n",
       " [0, 1, 5],\n",
       " [0, 2],\n",
       " [0, 2, 3],\n",
       " [0, 2, 3, 4],\n",
       " [0, 2, 3, 4, 5],\n",
       " [0, 2, 3, 5],\n",
       " [0, 2, 4],\n",
       " [0, 2, 4, 5],\n",
       " [0, 2, 5],\n",
       " [0, 3],\n",
       " [0, 3, 4],\n",
       " [0, 3, 4, 5],\n",
       " [0, 3, 5],\n",
       " [0, 4],\n",
       " [0, 4, 5],\n",
       " [0, 5],\n",
       " [1],\n",
       " [1, 2],\n",
       " [1, 2, 3],\n",
       " [1, 2, 3, 4],\n",
       " [1, 2, 3, 4, 5],\n",
       " [1, 2, 3, 5],\n",
       " [1, 2, 4],\n",
       " [1, 2, 4, 5],\n",
       " [1, 2, 5],\n",
       " [1, 3],\n",
       " [1, 3, 4],\n",
       " [1, 3, 4, 5],\n",
       " [1, 3, 5],\n",
       " [1, 4],\n",
       " [1, 4, 5],\n",
       " [1, 5],\n",
       " [2],\n",
       " [2, 3],\n",
       " [2, 3, 4],\n",
       " [2, 3, 4, 5],\n",
       " [2, 3, 5],\n",
       " [2, 4],\n",
       " [2, 4, 5],\n",
       " [2, 5],\n",
       " [3],\n",
       " [3, 4],\n",
       " [3, 4, 5],\n",
       " [3, 5],\n",
       " [4],\n",
       " [4, 5],\n",
       " [5]]"
      ]
     },
     "execution_count": 209,
     "metadata": {},
     "output_type": "execute_result"
    }
   ],
   "source": [
    "g = subSets(6)\n",
    "[list(a) for a in g]"
   ]
  },
  {
   "cell_type": "code",
   "execution_count": 203,
   "metadata": {},
   "outputs": [
    {
     "data": {
      "text/plain": [
       "[[], [], [], [], [], [], [], [], [], [], [], [], [], [], [], []]"
      ]
     },
     "execution_count": 203,
     "metadata": {},
     "output_type": "execute_result"
    }
   ],
   "source": [
    "a"
   ]
  },
  {
   "cell_type": "code",
   "execution_count": 1,
   "metadata": {},
   "outputs": [],
   "source": [
    "#@memoized\n",
    "def gen(n):\n",
    "    m = 0;\n",
    "    while m < n:\n",
    "        yield m\n",
    "        m += 1"
   ]
  },
  {
   "cell_type": "code",
   "execution_count": 2,
   "metadata": {},
   "outputs": [
    {
     "data": {
      "text/plain": [
       "[0, 1, 2, 3, 4]"
      ]
     },
     "execution_count": 2,
     "metadata": {},
     "output_type": "execute_result"
    }
   ],
   "source": [
    "g = gen(5)\n",
    "[i for i in g]"
   ]
  },
  {
   "cell_type": "code",
   "execution_count": 102,
   "metadata": {},
   "outputs": [],
   "source": [
    "@memoized\n",
    "def fact(n):\n",
    "    if n == 0:\n",
    "        yield 1\n",
    "    yield from fact(n-1)*n"
   ]
  },
  {
   "cell_type": "code",
   "execution_count": 103,
   "metadata": {},
   "outputs": [],
   "source": [
    "g = fact"
   ]
  },
  {
   "cell_type": "code",
   "execution_count": 34,
   "metadata": {},
   "outputs": [],
   "source": [
    "def our_decorator(func):\n",
    "    def function_wrapper(*args, **kwargs):\n",
    "        print(\"Before calling \" + func.__name__)\n",
    "        func(*args, **kwargs)\n",
    "        print(\"After calling \" + func.__name__)\n",
    "    return function_wrapper"
   ]
  },
  {
   "cell_type": "code",
   "execution_count": 43,
   "metadata": {},
   "outputs": [],
   "source": [
    "@our_decorator\n",
    "def real_f(func):\n",
    "    print(f\"Hi I am {func.__name__}\")\n",
    "    \n",
    "@our_decorator\n",
    "def add(x, y, extra = 4):\n",
    "    print(f\"x: {x}, y: {y}, extra: {extra}\")\n",
    "    return x + y + extra"
   ]
  },
  {
   "cell_type": "code",
   "execution_count": 36,
   "metadata": {},
   "outputs": [],
   "source": [
    "f = real_f\n",
    "del real_f"
   ]
  },
  {
   "cell_type": "code",
   "execution_count": 47,
   "metadata": {},
   "outputs": [
    {
     "name": "stdout",
     "output_type": "stream",
     "text": [
      "Before calling real_f\n",
      "Hi I am function_wrapper\n",
      "After calling real_f\n",
      "Before calling add\n",
      "x: 4, y: 5, extra: 7\n",
      "After calling add\n"
     ]
    }
   ],
   "source": [
    "f(succ)\n",
    "add(4, 5, extra = 7)"
   ]
  },
  {
   "cell_type": "code",
   "execution_count": 51,
   "metadata": {},
   "outputs": [],
   "source": [
    "def fib_helper(start = 0, acc = 1, count = 1):\n",
    "    print(f\"count = {count}\")\n",
    "    yield acc\n",
    "    yield from fib_helper(acc, start + acc, count + 1)"
   ]
  },
  {
   "cell_type": "code",
   "execution_count": 52,
   "metadata": {},
   "outputs": [],
   "source": [
    "f = fib_helper()"
   ]
  },
  {
   "cell_type": "code",
   "execution_count": 53,
   "metadata": {},
   "outputs": [
    {
     "name": "stdout",
     "output_type": "stream",
     "text": [
      "count = 1\n",
      "count = 2\n",
      "count = 3\n",
      "count = 4\n",
      "count = 5\n",
      "count = 6\n",
      "count = 7\n",
      "count = 8\n",
      "count = 9\n",
      "count = 10\n"
     ]
    },
    {
     "data": {
      "text/plain": [
       "[1, 1, 2, 3, 5, 8, 13, 21, 34, 55]"
      ]
     },
     "execution_count": 53,
     "metadata": {},
     "output_type": "execute_result"
    }
   ],
   "source": [
    "[next(f) for i in range(10)]"
   ]
  },
  {
   "cell_type": "code",
   "execution_count": 68,
   "metadata": {},
   "outputs": [],
   "source": [
    "def memoize(func):\n",
    "    cache = {}\n",
    "    def helper(*args, **kwargs):\n",
    "        if args in cache:\n",
    "            return cache[args]\n",
    "        val = func(*args, **kwargs)\n",
    "        cache[args] = val\n",
    "        return val\n",
    "    return helper"
   ]
  },
  {
   "cell_type": "code",
   "execution_count": 111,
   "metadata": {},
   "outputs": [],
   "source": [
    "c = [0]\n",
    "@memoize\n",
    "def rec(n, init = (1, 2, 3), coeffs = (-1, 3, -2)):\n",
    "    c[0] += 1\n",
    "    print(c)\n",
    "    if n < len(init):\n",
    "        return init[n]\n",
    "    return sum([a * b for a, b in \\\n",
    "                zip((rec(n - i) for i in range(1, len(init) + 1)), coeffs[::-1])])"
   ]
  },
  {
   "cell_type": "code",
   "execution_count": 112,
   "metadata": {},
   "outputs": [
    {
     "name": "stdout",
     "output_type": "stream",
     "text": [
      "[1]\n",
      "[2]\n",
      "[3]\n",
      "[4]\n",
      "[5]\n",
      "[6]\n"
     ]
    },
    {
     "data": {
      "text/plain": [
       "[1, 2, 3, -1, 9, -24]"
      ]
     },
     "execution_count": 112,
     "metadata": {},
     "output_type": "execute_result"
    }
   ],
   "source": [
    "[rec(i) for i in range(6)]"
   ]
  },
  {
   "cell_type": "code",
   "execution_count": 129,
   "metadata": {},
   "outputs": [],
   "source": [
    "c = [0]\n",
    "@memoize\n",
    "def choose(n, m):\n",
    "    c[0] += 1\n",
    "    if m == 0 or n == 0 or m == n:\n",
    "        return 1\n",
    "    return choose(n - 1, m) + choose(n - 1, m - 1) "
   ]
  },
  {
   "cell_type": "code",
   "execution_count": 143,
   "metadata": {},
   "outputs": [],
   "source": [
    "def find_tail(N):\n",
    "    m = 0\n",
    "    res = 0\n",
    "    while (200*res < 2**N*5):\n",
    "        res_prev = res\n",
    "        res += choose(N,m)\n",
    "        m += 1\n",
    "    return (res_prev, res, m)"
   ]
  },
  {
   "cell_type": "code",
   "execution_count": 144,
   "metadata": {},
   "outputs": [],
   "source": [
    "res_prev, res, m = find_tail(100)"
   ]
  },
  {
   "cell_type": "code",
   "execution_count": 141,
   "metadata": {},
   "outputs": [
    {
     "data": {
      "text/plain": [
       "(36057011612866492098338762600, 41)"
      ]
     },
     "execution_count": 141,
     "metadata": {},
     "output_type": "execute_result"
    }
   ],
   "source": [
    "res, m"
   ]
  },
  {
   "cell_type": "code",
   "execution_count": 145,
   "metadata": {},
   "outputs": [
    {
     "data": {
      "text/plain": [
       "0.017600100108852407"
      ]
     },
     "execution_count": 145,
     "metadata": {},
     "output_type": "execute_result"
    }
   ],
   "source": [
    "res_prev*2**-100"
   ]
  },
  {
   "cell_type": "code",
   "execution_count": null,
   "metadata": {},
   "outputs": [],
   "source": []
  }
 ],
 "metadata": {
  "kernelspec": {
   "display_name": "Python 3",
   "language": "python",
   "name": "python3"
  },
  "language_info": {
   "codemirror_mode": {
    "name": "ipython",
    "version": 3
   },
   "file_extension": ".py",
   "mimetype": "text/x-python",
   "name": "python",
   "nbconvert_exporter": "python",
   "pygments_lexer": "ipython3",
   "version": "3.7.6"
  }
 },
 "nbformat": 4,
 "nbformat_minor": 4
}
