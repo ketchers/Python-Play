{
 "cells": [
  {
   "cell_type": "code",
   "execution_count": 86,
   "metadata": {},
   "outputs": [],
   "source": [
    "from itertools import tee\n",
    "from types import GeneratorType\n",
    "\n",
    "def memoized(f):\n",
    "    cache={}\n",
    "    def ret(*args):\n",
    "        if args not in cache:\n",
    "            cache[args] = f(*args)\n",
    "        if isinstance(cache[args], (GeneratorType, Tee)):\n",
    "            # the original can't be used any more,\n",
    "            # so we need to change the cache as well\n",
    "            cache[args], r = tee(cache[args])\n",
    "            return r\n",
    "        return cache[args]\n",
    "    return ret"
   ]
  },
  {
   "cell_type": "code",
   "execution_count": 189,
   "metadata": {},
   "outputs": [],
   "source": [
    "def subSets(n):\n",
    "    S = []\n",
    "    yield S\n",
    "    prev = -1\n",
    "    while(True):\n",
    "        if prev + 1 < n:\n",
    "            S += [prev + 1];\n",
    "            prev += 1\n",
    "            yield S\n",
    "        else:\n",
    "            if len(S) > 0:\n",
    "                prev = S.pop(-1)\n",
    "            else:\n",
    "                break\n",
    "        \n",
    "            \n",
    "    "
   ]
  },
  {
   "cell_type": "code",
   "execution_count": 209,
   "metadata": {},
   "outputs": [
    {
     "data": {
      "text/plain": [
       "[[],\n",
       " [0],\n",
       " [0, 1],\n",
       " [0, 1, 2],\n",
       " [0, 1, 2, 3],\n",
       " [0, 1, 2, 3, 4],\n",
       " [0, 1, 2, 3, 4, 5],\n",
       " [0, 1, 2, 3, 5],\n",
       " [0, 1, 2, 4],\n",
       " [0, 1, 2, 4, 5],\n",
       " [0, 1, 2, 5],\n",
       " [0, 1, 3],\n",
       " [0, 1, 3, 4],\n",
       " [0, 1, 3, 4, 5],\n",
       " [0, 1, 3, 5],\n",
       " [0, 1, 4],\n",
       " [0, 1, 4, 5],\n",
       " [0, 1, 5],\n",
       " [0, 2],\n",
       " [0, 2, 3],\n",
       " [0, 2, 3, 4],\n",
       " [0, 2, 3, 4, 5],\n",
       " [0, 2, 3, 5],\n",
       " [0, 2, 4],\n",
       " [0, 2, 4, 5],\n",
       " [0, 2, 5],\n",
       " [0, 3],\n",
       " [0, 3, 4],\n",
       " [0, 3, 4, 5],\n",
       " [0, 3, 5],\n",
       " [0, 4],\n",
       " [0, 4, 5],\n",
       " [0, 5],\n",
       " [1],\n",
       " [1, 2],\n",
       " [1, 2, 3],\n",
       " [1, 2, 3, 4],\n",
       " [1, 2, 3, 4, 5],\n",
       " [1, 2, 3, 5],\n",
       " [1, 2, 4],\n",
       " [1, 2, 4, 5],\n",
       " [1, 2, 5],\n",
       " [1, 3],\n",
       " [1, 3, 4],\n",
       " [1, 3, 4, 5],\n",
       " [1, 3, 5],\n",
       " [1, 4],\n",
       " [1, 4, 5],\n",
       " [1, 5],\n",
       " [2],\n",
       " [2, 3],\n",
       " [2, 3, 4],\n",
       " [2, 3, 4, 5],\n",
       " [2, 3, 5],\n",
       " [2, 4],\n",
       " [2, 4, 5],\n",
       " [2, 5],\n",
       " [3],\n",
       " [3, 4],\n",
       " [3, 4, 5],\n",
       " [3, 5],\n",
       " [4],\n",
       " [4, 5],\n",
       " [5]]"
      ]
     },
     "execution_count": 209,
     "metadata": {},
     "output_type": "execute_result"
    }
   ],
   "source": [
    "g = subSets(6)\n",
    "[list(a) for a in g]"
   ]
  },
  {
   "cell_type": "code",
   "execution_count": 203,
   "metadata": {},
   "outputs": [
    {
     "data": {
      "text/plain": [
       "[[], [], [], [], [], [], [], [], [], [], [], [], [], [], [], []]"
      ]
     },
     "execution_count": 203,
     "metadata": {},
     "output_type": "execute_result"
    }
   ],
   "source": [
    "a"
   ]
  },
  {
   "cell_type": "code",
   "execution_count": 1,
   "metadata": {},
   "outputs": [],
   "source": [
    "#@memoized\n",
    "def gen(n):\n",
    "    m = 0;\n",
    "    while m < n:\n",
    "        yield m\n",
    "        m += 1"
   ]
  },
  {
   "cell_type": "code",
   "execution_count": 2,
   "metadata": {},
   "outputs": [
    {
     "data": {
      "text/plain": [
       "[0, 1, 2, 3, 4]"
      ]
     },
     "execution_count": 2,
     "metadata": {},
     "output_type": "execute_result"
    }
   ],
   "source": [
    "g = gen(5)\n",
    "[i for i in g]"
   ]
  },
  {
   "cell_type": "code",
   "execution_count": 102,
   "metadata": {},
   "outputs": [],
   "source": [
    "@memoized\n",
    "def fact(n):\n",
    "    if n == 0:\n",
    "        yield 1\n",
    "    yield from fact(n-1)*n"
   ]
  },
  {
   "cell_type": "code",
   "execution_count": 103,
   "metadata": {},
   "outputs": [],
   "source": [
    "g = fact"
   ]
  },
  {
   "cell_type": "code",
   "execution_count": 127,
   "metadata": {},
   "outputs": [
    {
     "data": {
      "text/plain": [
       "3"
      ]
     },
     "execution_count": 127,
     "metadata": {},
     "output_type": "execute_result"
    }
   ],
   "source": [
    "a = [1,2,3]\n",
    "a.pop(-1)"
   ]
  },
  {
   "cell_type": "code",
   "execution_count": 128,
   "metadata": {},
   "outputs": [
    {
     "data": {
      "text/plain": [
       "[1, 2]"
      ]
     },
     "execution_count": 128,
     "metadata": {},
     "output_type": "execute_result"
    }
   ],
   "source": [
    "a"
   ]
  },
  {
   "cell_type": "code",
   "execution_count": 77,
   "metadata": {},
   "outputs": [
    {
     "data": {
      "text/plain": [
       "[0, 1, 2, 3, 4, 5, 6, 7, 8, 9]"
      ]
     },
     "execution_count": 77,
     "metadata": {},
     "output_type": "execute_result"
    }
   ],
   "source": [
    "[i for i in it1]"
   ]
  },
  {
   "cell_type": "code",
   "execution_count": 78,
   "metadata": {},
   "outputs": [
    {
     "data": {
      "text/plain": [
       "itertools._tee"
      ]
     },
     "execution_count": 78,
     "metadata": {},
     "output_type": "execute_result"
    }
   ],
   "source": [
    "it1.__class__"
   ]
  },
  {
   "cell_type": "code",
   "execution_count": 120,
   "metadata": {},
   "outputs": [
    {
     "data": {
      "text/plain": [
       "[2, 4, 6]"
      ]
     },
     "execution_count": 120,
     "metadata": {},
     "output_type": "execute_result"
    }
   ],
   "source": [
    "A = [1,2,4,5,7,8,10]\n",
    "[i for i in range(1, len(A)) if A[i-1] +1 < A[i]]"
   ]
  },
  {
   "cell_type": "code",
   "execution_count": null,
   "metadata": {},
   "outputs": [],
   "source": []
  }
 ],
 "metadata": {
  "kernelspec": {
   "display_name": "Python 3",
   "language": "python",
   "name": "python3"
  },
  "language_info": {
   "codemirror_mode": {
    "name": "ipython",
    "version": 3
   },
   "file_extension": ".py",
   "mimetype": "text/x-python",
   "name": "python",
   "nbconvert_exporter": "python",
   "pygments_lexer": "ipython3",
   "version": "3.7.3"
  }
 },
 "nbformat": 4,
 "nbformat_minor": 2
}
