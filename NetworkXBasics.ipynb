{
 "cells": [
  {
   "cell_type": "markdown",
   "metadata": {},
   "source": [
    "[Taken From Here](http://avinashu.com/tutorial/pythontutorialnew/NetworkXBasics.html)"
   ]
  },
  {
   "cell_type": "markdown",
   "metadata": {},
   "source": [
    "# Introduction to NetworkX"
   ]
  },
  {
   "cell_type": "markdown",
   "metadata": {},
   "source": [
    "The focus of this tutorial is to provide a basic introduction to using NetworkX. NetworkX is a python package which can be used for network analysis. NetworkX package contains several standard network algorithms which we will use in our course. This tutorial is by no means exhaustive. For more information, refer to the NetworkX documentation [here](http://networkx.readthedocs.io/en/latest/index.html).\n",
    "\n",
    "## Initializing the Network\n",
    "\n",
    "The first step is to import the networkx module."
   ]
  },
  {
   "cell_type": "code",
   "execution_count": 1,
   "metadata": {
    "collapsed": true
   },
   "outputs": [],
   "source": [
    "import networkx as nx"
   ]
  },
  {
   "cell_type": "markdown",
   "metadata": {},
   "source": [
    "Next we initialize an empty Graph object. "
   ]
  },
  {
   "cell_type": "code",
   "execution_count": 2,
   "metadata": {
    "collapsed": true
   },
   "outputs": [],
   "source": [
    "# The following line initializes two empty directed graph objects\n",
    "G1=nx.DiGraph()\n",
    "G2=nx.DiGraph()\n",
    "# An empty undirected graph object can be initialized using the command\n",
    "# G=nx.Graph()"
   ]
  },
  {
   "cell_type": "markdown",
   "metadata": {},
   "source": [
    "Let us look at the network presented in Ahuja, Magnanti, and Orlin (1993) classic book on Network Flows. We can enter the nodes in multiple ways."
   ]
  },
  {
   "cell_type": "code",
   "execution_count": 32,
   "metadata": {
    "collapsed": false
   },
   "outputs": [
    {
     "data": {
      "text/plain": [
       "NodeView((1, 2, 3, 4, 5, 6))"
      ]
     },
     "execution_count": 32,
     "metadata": {},
     "output_type": "execute_result"
    }
   ],
   "source": [
    "G1.add_node(1)\n",
    "G1.add_node(2)\n",
    "G1.add_node(3)\n",
    "G1.add_node(4)\n",
    "G1.add_node(5)\n",
    "G1.add_node(6)\n",
    "G1.nodes()"
   ]
  },
  {
   "cell_type": "code",
   "execution_count": 33,
   "metadata": {
    "collapsed": false
   },
   "outputs": [
    {
     "data": {
      "text/plain": [
       "NodeView((1, 2, 3, 4, 5, 6))"
      ]
     },
     "execution_count": 33,
     "metadata": {},
     "output_type": "execute_result"
    }
   ],
   "source": [
    "list_nodes = [1, 2, 3, 4, 5, 6]\n",
    "G2.add_nodes_from(list_nodes)\n",
    "G2.nodes()"
   ]
  },
  {
   "cell_type": "markdown",
   "metadata": {},
   "source": [
    "Let us now add the arcs. As with nodes, there are multiple ways to add the arcs."
   ]
  },
  {
   "cell_type": "code",
   "execution_count": 34,
   "metadata": {
    "collapsed": false
   },
   "outputs": [
    {
     "data": {
      "text/plain": [
       "OutEdgeView([(1, 2), (1, 3), (2, 3), (2, 4), (2, 5), (3, 5), (4, 6), (5, 4), (5, 6)])"
      ]
     },
     "execution_count": 34,
     "metadata": {},
     "output_type": "execute_result"
    }
   ],
   "source": [
    "G1.add_edge(1, 2, weight = 2.0)\n",
    "G1.add_edge(1,3)\n",
    "G1[1][3]['weight'] = 4.0\n",
    "G1.add_edge(2, 3, weight = 1.0)\n",
    "G1.add_edge(2, 4, weight = 4.0)\n",
    "G1.add_edge(2, 5, weight = 2.0)\n",
    "G1.add_edge(3, 5)\n",
    "G1[3][5]['weight'] = 3.0\n",
    "G1.add_edge(4, 6, weight = 2.0)\n",
    "G1.add_edge(5, 4, weight = 3.0)\n",
    "G1.add_edge(5, 6, weight = 2.0)\n",
    "G1.edges()"
   ]
  },
  {
   "cell_type": "code",
   "execution_count": 35,
   "metadata": {},
   "outputs": [
    {
     "data": {
      "text/plain": [
       "{'weight': 2.0}"
      ]
     },
     "execution_count": 35,
     "metadata": {},
     "output_type": "execute_result"
    }
   ],
   "source": [
    "G1[4][6]"
   ]
  },
  {
   "cell_type": "code",
   "execution_count": 36,
   "metadata": {
    "collapsed": false
   },
   "outputs": [
    {
     "data": {
      "text/plain": [
       "OutEdgeView([(1, 2), (1, 3), (2, 3), (2, 4), (2, 5), (3, 5), (4, 6), (5, 4), (5, 6)])"
      ]
     },
     "execution_count": 36,
     "metadata": {},
     "output_type": "execute_result"
    }
   ],
   "source": [
    "list_arcs = [(1,2,2.0) , (1,3,4.0) , (2,3,1.0) , (2,4,4.0) , (2,5,2.0) , (3,5,3.0) , (4,6,2.0) , (5,4,3.0) , (5,6,2.0)]\n",
    "G2.add_weighted_edges_from(list_arcs)\n",
    "G2.edges()"
   ]
  },
  {
   "cell_type": "markdown",
   "metadata": {},
   "source": [
    "## Shortest Path\n",
    "\n",
    "Let us now determine the shortest path using Djikstras algorithm. The function shown below returns a list which stores the shortest path from source to target."
   ]
  },
  {
   "cell_type": "code",
   "execution_count": 37,
   "metadata": {
    "collapsed": false
   },
   "outputs": [
    {
     "name": "stdout",
     "output_type": "stream",
     "text": [
      "[1, 2, 5, 6]\n"
     ]
    }
   ],
   "source": [
    "sp = nx.dijkstra_path(G1,source = 1, target = 6)\n",
    "print(sp)"
   ]
  },
  {
   "cell_type": "markdown",
   "metadata": {},
   "source": [
    " Note that there are several other routines to determine the shortest path."
   ]
  },
  {
   "cell_type": "code",
   "execution_count": 38,
   "metadata": {
    "collapsed": false
   },
   "outputs": [
    {
     "name": "stdout",
     "output_type": "stream",
     "text": [
      "[1, 2, 4, 6]\n"
     ]
    }
   ],
   "source": [
    "print(nx.shortest_path(G1,source = 1, target = 6))"
   ]
  },
  {
   "cell_type": "markdown",
   "metadata": {},
   "source": [
    "Let us now visualize the network along with the shortest path. Note that in networkx and matplotlib, the arrows in the directed arcs are represented as notches and not arrows which is annoying. "
   ]
  },
  {
   "cell_type": "code",
   "execution_count": 39,
   "metadata": {
    "collapsed": false
   },
   "outputs": [
    {
     "data": {
      "image/png": "[encoded data removed]",
      "text/plain": [
       "<Figure size 432x288 with 1 Axes>"
      ]
     },
     "metadata": {},
     "output_type": "display_data"
    }
   ],
   "source": [
    "# First we import the matplotlib python plotting package\n",
    "import matplotlib.pyplot as plt\n",
    "# We then set the coordinates of each node\n",
    "G1.node[1]['pos'] = (0,0)\n",
    "G1.node[2]['pos'] = (2,2)\n",
    "G1.node[3]['pos'] = (2,-2)\n",
    "G1.node[4]['pos'] = (5,2)\n",
    "G1.node[5]['pos'] = (5,-2)\n",
    "G1.node[6]['pos'] = (7,0)\n",
    "# The positions of each node are stored in a dictionary\n",
    "node_pos=nx.get_node_attributes(G1,'pos')\n",
    "# The edge weights of each arcs are stored in a dictionary\n",
    "arc_weight=nx.get_edge_attributes(G1,'weight')\n",
    "# Create a list of arcs in the shortest path using the zip command and store it in red edges\n",
    "red_edges = list(zip(sp,sp[1:]))\n",
    "# If the node is in the shortest path, set it to red, else set it to white color\n",
    "node_col = ['white' if not node in sp else 'red' for node in G1.nodes()]\n",
    "# If the edge is in the shortest path set it to red, else set it to white color\n",
    "edge_col = ['black' if not edge in red_edges else 'red' for edge in G1.edges()]\n",
    "# Draw the nodes\n",
    "# nx.draw_networkx(G1, node_pos,node_color= node_col, node_size=450)\n",
    "nodes = nx.draw_networkx_nodes(G1, node_pos,node_color= node_col, node_size=450)\n",
    "nodes.set_edgecolor('k')\n",
    "# Draw the node labels\n",
    "nx.draw_networkx_labels(G1, node_pos,node_color= node_col)\n",
    "# Draw the edges\n",
    "nx.draw_networkx_edges(G1, node_pos,edge_color= edge_col)\n",
    "# Draw the edge labels\n",
    "nx.draw_networkx_edge_labels(G1, node_pos,edge_color= edge_col, edge_labels=arc_weight)\n",
    "# Remove the axis\n",
    "plt.axis('off')\n",
    "# Show the plot\n",
    "plt.show()"
   ]
  },
  {
   "cell_type": "markdown",
   "metadata": {},
   "source": [
    "Dont forget to clear the graph object."
   ]
  },
  {
   "cell_type": "code",
   "execution_count": 15,
   "metadata": {
    "collapsed": true
   },
   "outputs": [],
   "source": [
    "G1.clear()\n",
    "G2.clear()"
   ]
  },
  {
   "cell_type": "code",
   "execution_count": 16,
   "metadata": {
    "collapsed": false
   },
   "outputs": [
    {
     "data": {
      "text/plain": [
       "OutEdgeView([])"
      ]
     },
     "execution_count": 16,
     "metadata": {},
     "output_type": "execute_result"
    }
   ],
   "source": [
    "G1.edges()"
   ]
  },
  {
   "cell_type": "markdown",
   "metadata": {},
   "source": [
    "Let us now visualize the Sioux Falls Network Available [here](https://github.com/bstabler/TransportationNetworks/tree/master/SiouxFalls). For the sake of simplicity, I am going to assume that the cost on each arc is going to be the integer rounded costs provided in SiouxFalls_flow.tntp and the node coordinates are provided in SiouxFalls_node.tntp. Make sure both files are in a directory called SiouxFalls in the same location where you have this notebook file."
   ]
  },
  {
   "cell_type": "code",
   "execution_count": 25,
   "metadata": {
    "collapsed": false
   },
   "outputs": [
    {
     "name": "stdout",
     "output_type": "stream",
     "text": [
      "76\n",
      "24\n"
     ]
    }
   ],
   "source": [
    "G3=nx.DiGraph()\n",
    "f = open(\"SiouxFalls/SiouxFalls_flow.tntp\", \"r\")\n",
    "line = f.readline()\n",
    "line = f.readline()\n",
    "while len(line):\n",
    "    l = line.split()\n",
    "    fromnode = int(l[0])\n",
    "    to = int(l[1])\n",
    "    volume = float(l[2])\n",
    "    cost = int(float(l[3]))\n",
    "    G3.add_edge(fromnode, to, weight = cost)\n",
    "    line = f.readline()\n",
    "f.close()\n",
    "print(G3.number_of_edges())\n",
    "\n",
    "f = open(\"SiouxFalls/SiouxFalls_node.tntp\", \"r\")\n",
    "line = f.readline()\n",
    "line = f.readline()\n",
    "while len(line):\n",
    "    line = line.strip(';')\n",
    "    l = line.split()\n",
    "    node = int(l[0])\n",
    "    pos1 = float(l[1])/10000\n",
    "    pos2 = float(l[2])/10000\n",
    "    G3.add_node(node, pos=(pos1,pos2))\n",
    "    line = f.readline()\n",
    "f.close()\n",
    "print(G3.number_of_nodes())\n",
    "\n"
   ]
  },
  {
   "cell_type": "code",
   "execution_count": 31,
   "metadata": {
    "collapsed": false
   },
   "outputs": [
    {
     "data": {
      "image/png": "[encoded data removed]",
      "text/plain": [
       "<Figure size 576x864 with 1 Axes>"
      ]
     },
     "metadata": {},
     "output_type": "display_data"
    }
   ],
   "source": [
    "plt.figure(figsize=(8,12))\n",
    "# The positions of each node are stored in a dictionary\n",
    "node_pos=nx.get_node_attributes(G3,'pos')\n",
    "# The edge weights of each arcs are stored in a dictionary\n",
    "arc_weight=nx.get_edge_attributes(G3,'weight')\n",
    "# Determine the shortest path\n",
    "sp = nx.dijkstra_path(G3,source = 1, target = 20)\n",
    "# Create a list of arcs in the shortest path using the zip command and store it in red edges\n",
    "red_edges = list(zip(sp,sp[1:]))\n",
    "# If the node is in the shortest path, set it to red, else set it to white color\n",
    "node_col = ['white' if not node in sp else 'red' for node in G3.nodes()]\n",
    "# If the edge is in the shortest path set it to red, else set it to white color\n",
    "edge_col = ['black' if not edge in red_edges else 'red' for edge in G3.edges()]\n",
    "# Draw the nodes\n",
    "#nx.draw_networkx(G3, node_pos,node_color= node_col, node_size=450)\n",
    "nodes = nx.draw_networkx_nodes(G3, node_pos,node_color= node_col, node_size=450)\n",
    "nodes.set_edgecolor('k')\n",
    "# Draw the node labels\n",
    "nx.draw_networkx_labels(G3, node_pos,node_color= node_col)\n",
    "# Draw the edges\n",
    "nx.draw_networkx_edges(G3, node_pos,edge_color= edge_col)\n",
    "# Draw the edge labels\n",
    "nx.draw_networkx_edge_labels(G3, node_pos,edge_color= edge_col, edge_labels=arc_weight)\n",
    "# Remove the axis\n",
    "plt.axis('off')\n",
    "# Show the plot\n",
    "plt.show()\n"
   ]
  },
  {
   "cell_type": "code",
   "execution_count": 21,
   "metadata": {
    "collapsed": false
   },
   "outputs": [],
   "source": [
    "G3.clear()"
   ]
  },
  {
   "cell_type": "markdown",
   "metadata": {},
   "source": [
    "There are three main issues with the above visualization:\n",
    "\n",
    "* Using of notches instead of arrows\n",
    "* When you have a two arcs connecting two nodes in opposite directions, the arcs are overlayed\n",
    "* The costs of arcs in both directions are written one over the other which is annoying\n",
    "\n",
    "So for better network visualization especially for directed networks, I recommend looking at the GraphViz or pygraphviz package"
   ]
  },
  {
   "cell_type": "markdown",
   "metadata": {},
   "source": [
    "## Minimum Spanning Tree"
   ]
  },
  {
   "cell_type": "markdown",
   "metadata": {},
   "source": [
    "Let us use the NetworkX package to determine the Minimum Spanning Tree."
   ]
  },
  {
   "cell_type": "code",
   "execution_count": 44,
   "metadata": {
    "collapsed": false
   },
   "outputs": [
    {
     "name": "stdout",
     "output_type": "stream",
     "text": [
      "[(1, 2), (2, 5), (2, 3), (4, 5), (3, 6), (5, 8), (7, 8), (8, 9)]\n"
     ]
    }
   ],
   "source": [
    "G4 = nx.Graph()\n",
    "list_edges = [(1,2,2.0) , (1,4,4.0) , (2,3,3.0) , (2,5,2.0) , (3,6,1.0) , (4,5,2.0) , (4,7,6.0) , (5,6,5.0) , (5,8,3.0) , (6,9,8.0) , (8,9,1.0) , (7,8,2.0)]\n",
    "G4.add_weighted_edges_from(list_edges)\n",
    "G4.node[1]['pos'] = (0,0)\n",
    "G4.node[2]['pos'] = (0,2)\n",
    "G4.node[3]['pos'] = (0,4)\n",
    "G4.node[4]['pos'] = (2,0)\n",
    "G4.node[5]['pos'] = (2,2)\n",
    "G4.node[6]['pos'] = (2,4)\n",
    "G4.node[7]['pos'] = (4,0)\n",
    "G4.node[8]['pos'] = (4,2)\n",
    "G4.node[9]['pos'] = (4,4)\n",
    "T = nx.minimum_spanning_tree(G4)\n",
    "print(T.edges())\n"
   ]
  },
  {
   "cell_type": "code",
   "execution_count": 45,
   "metadata": {
    "collapsed": false
   },
   "outputs": [
    {
     "data": {
      "image/png": "[encoded data removed]",
      "text/plain": [
       "<Figure size 432x288 with 1 Axes>"
      ]
     },
     "metadata": {},
     "output_type": "display_data"
    }
   ],
   "source": [
    "node_pos=nx.get_node_attributes(G4,'pos')\n",
    "edge_weight=nx.get_edge_attributes(G4,'weight')\n",
    "red_edges = T.edges()\n",
    "node_col = ['white']\n",
    "# If the edge is in the shortest path set it to red, else set it to white color\n",
    "edge_col = ['black' if not edge in red_edges else 'red' for edge in G4.edges()]\n",
    "# Draw the nodes\n",
    "nodes = nx.draw_networkx_nodes(G4, node_pos,node_color= node_col, node_size=450)\n",
    "nodes.set_edgecolor('k')\n",
    "# Draw the node labels\n",
    "nx.draw_networkx_labels(G4, node_pos,node_color= node_col)\n",
    "# Draw the edges\n",
    "nx.draw_networkx_edges(G4, node_pos,edge_color= edge_col)\n",
    "# Draw the edge labels\n",
    "nx.draw_networkx_edge_labels(G4, node_pos,edge_color= edge_col, edge_labels=edge_weight)\n",
    "# Remove the axis\n",
    "plt.axis('off')\n",
    "# Show the plot\n",
    "plt.show()\n",
    "G4.clear()"
   ]
  },
  {
   "cell_type": "markdown",
   "metadata": {},
   "source": [
    "## Minimum Cost Flow\n",
    "\n",
    "We will use NetworkX package to solve the minimum cost flow problem example provided in page 322 of Ahuja, Magnanti, and Orlin (1993)."
   ]
  },
  {
   "cell_type": "code",
   "execution_count": 47,
   "metadata": {
    "collapsed": false
   },
   "outputs": [
    {
     "name": "stdout",
     "output_type": "stream",
     "text": [
      "The minimum cost is: 14\n",
      "The optimal flow is:\n",
      "{1: {2: 2, 3: 2}, 2: {3: 2, 4: 0}, 3: {4: 4}, 4: {}}\n"
     ]
    }
   ],
   "source": [
    "G5 = nx.DiGraph()\n",
    "G5.add_edge(1,2, weight=2, capacity=4)\n",
    "G5.add_edge(1,3, weight=2, capacity=2)\n",
    "G5.add_edge(2,3, weight=1, capacity=2)\n",
    "G5.add_edge(2,4, weight=3, capacity=3)\n",
    "G5.add_edge(3,4, weight=1, capacity=5)\n",
    "G5.node[1]['demand'] = -4\n",
    "G5.node[4]['demand'] = 4\n",
    "cost, flow = nx.capacity_scaling(G5)\n",
    "print(\"The minimum cost is:\", cost)\n",
    "print(\"The optimal flow is:\")\n",
    "print(flow)\n",
    "# The data structure of flow is not consistent with dictionary datastructure\n",
    "# needed for printing the optimal solution\n",
    "optimal_flow = {}\n",
    "for i in G5.nodes:\n",
    "    for j in flow[i].keys():\n",
    "        optimal_flow[i,j] = flow[i][j]\n",
    "    "
   ]
  },
  {
   "cell_type": "code",
   "execution_count": 48,
   "metadata": {
    "collapsed": false
   },
   "outputs": [],
   "source": [
    "G5.node[1]['pos'] = (0,0)\n",
    "G5.node[2]['pos'] = (3,3)\n",
    "G5.node[3]['pos'] = (3,-3)\n",
    "G5.node[4]['pos'] = (6,0)\n",
    "node_pos = nx.get_node_attributes(G5,'pos')\n",
    "arc_cost = nx.get_edge_attributes(G5,'weight')\n",
    "arc_cap  = nx.get_edge_attributes(G5,'capacity')"
   ]
  },
  {
   "cell_type": "code",
   "execution_count": 55,
   "metadata": {
    "collapsed": false
   },
   "outputs": [
    {
     "name": "stdout",
     "output_type": "stream",
     "text": [
      "The edge weights correspond to optimal flow values:\n"
     ]
    },
    {
     "data": {
      "image/png": "[encoded data removed]",
      "text/plain": [
       "<Figure size 432x288 with 1 Axes>"
      ]
     },
     "metadata": {},
     "output_type": "display_data"
    }
   ],
   "source": [
    "nodes = nx.draw_networkx_nodes(G5, node_pos,node_color='white' , node_size=450)\n",
    "nodes.set_edgecolor('k')\n",
    "nx.draw_networkx_labels(G5, node_pos,node_color='white')\n",
    "nx.draw_networkx_edges(G5, node_pos)\n",
    "nx.draw_networkx_edge_labels(G5, node_pos,edge_labels=optimal_flow)\n",
    "# Remove the axis\n",
    "plt.axis('off')\n",
    "# Show the plot\n",
    "print(\"The edge weights correspond to optimal flow values:\")\n",
    "plt.show()\n"
   ]
  },
  {
   "cell_type": "markdown",
   "metadata": {},
   "source": [
    "The [algorithms](https://networkx.readthedocs.io/en/stable/reference/algorithms.html) section of the NetworkX reference document contains details on various other network algorithms which can be solved using the NetworkX package."
   ]
  }
 ],
 "metadata": {
  "anaconda-cloud": {},
  "kernelspec": {
   "display_name": "Python 3",
   "language": "python",
   "name": "python3"
  },
  "language_info": {
   "codemirror_mode": {
    "name": "ipython",
    "version": 3
   },
   "file_extension": ".py",
   "mimetype": "text/x-python",
   "name": "python",
   "nbconvert_exporter": "python",
   "pygments_lexer": "ipython3",
   "version": "3.7.3"
  }
 },
 "nbformat": 4,
 "nbformat_minor": 2
}
