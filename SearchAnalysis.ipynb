{
 "cells": [
  {
   "cell_type": "markdown",
   "metadata": {},
   "source": [
    "## Note if using Colab\n",
    "* First download [linkedlist.py](https://drive.google.com/open?id=1ap5cKSZQT99CEQB4txnKyBPZdnyOhKBY) to your machine.\n",
    "* Click \">\" button to right of code. Select files and upload the [linkedlist.py](https://drive.google.com/open?id=1ap5cKSZQT99CEQB4txnKyBPZdnyOhKBY) file. This must be done each new run in Colab."
   ]
  },
  {
   "cell_type": "code",
   "execution_count": null,
   "metadata": {},
   "outputs": [],
   "source": [
    "from linkedlist import List\n",
    "import pylab as plt\n",
    "import numpy as np\n",
    "from scipy.optimize import curve_fit\n",
    "from time import perf_counter"
   ]
  },
  {
   "cell_type": "markdown",
   "metadata": {},
   "source": [
    "# Simple Linear Search algorithm\n",
    "We expect $O(n)$ running time where $n$ is the length of the array or list."
   ]
  },
  {
   "cell_type": "code",
   "execution_count": 22,
   "metadata": {},
   "outputs": [],
   "source": [
    "def LinearSearch(array_like, target):\n",
    "    for item in array_like:\n",
    "        if item is target:\n",
    "            return True\n",
    "    return False"
   ]
  },
  {
   "cell_type": "markdown",
   "metadata": {},
   "source": [
    "# Binary Search\n",
    "We expect $O(\\log(n))$ running time when using an array and $O(n\\,\\log(n))$ when using a linked list."
   ]
  },
  {
   "cell_type": "code",
   "execution_count": 148,
   "metadata": {},
   "outputs": [],
   "source": [
    "def BinarySearchRec(array_like, target):\n",
    "    N = len(array_like)\n",
    "    if N == 1:\n",
    "        return target == array_like[0]\n",
    "    elif target < array_like[N // 2]:\n",
    "        return BinarySearch(array_like[:N // 2], target)\n",
    "    else:\n",
    "        return BinarySearch(array_like[N // 2:], target)"
   ]
  },
  {
   "cell_type": "markdown",
   "metadata": {},
   "source": [
    "It might be preferable to use a non-recursive binary search as the recursive one actually builds new sub-arrays in the recursion steps. The following simply resets indices."
   ]
  },
  {
   "cell_type": "code",
   "execution_count": 190,
   "metadata": {},
   "outputs": [],
   "source": [
    "def BinarySearch(array_like, target):\n",
    "    hi = len(array_like)\n",
    "    low = 0\n",
    "    while low < hi - 1: # current sub-array is array_like[lo:hi]\n",
    "        if target < array_like[(low + hi) // 2]:\n",
    "            hi = (low + hi) // 2\n",
    "        else:\n",
    "            low = (low + hi) // 2\n",
    "    return target == array_like[low]"
   ]
  },
  {
   "cell_type": "markdown",
   "metadata": {},
   "source": [
    "# Functions to time runs\n",
    "This function takes two parameter $N$, the number of items in the list, and $M$ the number of repititions for this $N$. It is good to repeat so as to smooth out some of the noise in the system. "
   ]
  },
  {
   "cell_type": "code",
   "execution_count": 173,
   "metadata": {},
   "outputs": [],
   "source": [
    "def times(f, *args, **kwargs):\n",
    "    start_time = perf_counter()\n",
    "    f(*args, **kwargs)\n",
    "    return perf_counter() - start_time\n",
    "\n",
    "def testLinearSearch(N, M, linked_list = False):\n",
    "    results = []\n",
    "    for i in range(M):\n",
    "        items = np.sort(np.random.randint(0, 2**16, N))\n",
    "        target = np.random.randint(0, 2**16)        \n",
    "        if linked_list:\n",
    "            results += [times(LinearSearch, List(items), target)]\n",
    "        else:\n",
    "            results += [times(LinearSearch, items, target)]\n",
    "    return np.mean(results)\n",
    "\n",
    "def testBinarySearch(N, M, linked_list = False):\n",
    "    results = []\n",
    "    for i in range(M):\n",
    "        items = np.sort(np.random.randint(0, 2**16, N))\n",
    "        target = np.random.randint(0, 2**16) \n",
    "        if linked_list:\n",
    "            results += [times(BinarySearch, List(items), target)]\n",
    "        else:\n",
    "            results += [times(BinarySearch, items, target)]\n",
    "    return np.mean(results)"
   ]
  },
  {
   "cell_type": "markdown",
   "metadata": {},
   "source": [
    "# Test run time of LinearSearch\n",
    "First run on arrays."
   ]
  },
  {
   "cell_type": "code",
   "execution_count": 178,
   "metadata": {},
   "outputs": [
    {
     "data": {
      "image/png": "[encoded data removed]",
      "text/plain": [
       "<Figure size 432x288 with 1 Axes>"
      ]
     },
     "metadata": {
      "needs_background": "light"
     },
     "output_type": "display_data"
    }
   ],
   "source": [
    "xdata = np.array([N for N in range(10, 1000, 10)])\n",
    "ydata = np.array([testLinearSearch(N, 50) for N in range(10,1000, 10)])\n",
    "\n",
    "fig, ax = plt.subplots()\n",
    "ax.plot(xdata,ydata,\"b.\")\n",
    "plt.show()"
   ]
  },
  {
   "cell_type": "markdown",
   "metadata": {},
   "source": [
    "# A few models to fit"
   ]
  },
  {
   "cell_type": "code",
   "execution_count": 175,
   "metadata": {},
   "outputs": [],
   "source": [
    "def linear(x, a, b):\n",
    "    return a*x + b\n",
    "\n",
    "def log_n(x, a, b):\n",
    "    return a*np.log2(x) + b\n",
    "\n",
    "def n_log_n(x, a, b):\n",
    "    return a*x*np.log2(x) + b"
   ]
  },
  {
   "cell_type": "markdown",
   "metadata": {},
   "source": [
    "# Fit a model and plot the result\n",
    "We expect LinearSearch to have $O(n)$ running time. So try the `linear` fit."
   ]
  },
  {
   "cell_type": "code",
   "execution_count": 179,
   "metadata": {},
   "outputs": [
    {
     "data": {
      "image/png": "[encoded data removed]",
      "text/plain": [
       "<Figure size 432x288 with 1 Axes>"
      ]
     },
     "metadata": {
      "needs_background": "light"
     },
     "output_type": "display_data"
    }
   ],
   "source": [
    "coeffs, cov = curve_fit(linear, xdata, ydata)\n",
    "Y = [coeffs.dot(np.array([x, 1])) for x in xdata]\n",
    "\n",
    "fig, ax = plt.subplots()\n",
    "ax.plot(xdata,ydata,\"b.\")\n",
    "ax.plot(xdata, Y, 'r-')\n",
    "plt.show()"
   ]
  },
  {
   "cell_type": "markdown",
   "metadata": {},
   "source": [
    "# Repeat analysis of Linear Search with linked lists\n",
    "Notice, the running time has increased but the linear model is still correct."
   ]
  },
  {
   "cell_type": "code",
   "execution_count": 180,
   "metadata": {},
   "outputs": [
    {
     "data": {
      "image/png": "[encoded data removed]",
      "text/plain": [
       "<Figure size 432x288 with 1 Axes>"
      ]
     },
     "metadata": {
      "needs_background": "light"
     },
     "output_type": "display_data"
    }
   ],
   "source": [
    "xdata = np.array([N for N in range(10, 1000, 10)])\n",
    "ydata = np.array([testLinearSearch(N, 50, linked_list = True) for N in range(10,1000, 10)])\n",
    "\n",
    "coeffs, cov = curve_fit(linear, xdata, ydata)\n",
    "Y = [coeffs.dot(np.array([x, 1])) for x in xdata]\n",
    "\n",
    "fig, ax = plt.subplots()\n",
    "ax.plot(xdata,ydata,\"b.\")\n",
    "ax.plot(xdata, Y, 'r-')\n",
    "plt.show()"
   ]
  },
  {
   "cell_type": "markdown",
   "metadata": {},
   "source": [
    "# Repeat analysis for binary search\n",
    "Here we expect $O(log(n))$ running time, so try to model with `log_n` fit function."
   ]
  },
  {
   "cell_type": "code",
   "execution_count": 188,
   "metadata": {},
   "outputs": [
    {
     "data": {
      "image/png": "[encoded data removed]",
      "text/plain": [
       "<Figure size 432x288 with 1 Axes>"
      ]
     },
     "metadata": {
      "needs_background": "light"
     },
     "output_type": "display_data"
    }
   ],
   "source": [
    "xdata = np.array([N for N in range(100, 10000, 100)])\n",
    "ydata = np.array([testBinarySearch(N, 50) for N in range(100, 10000, 100)])\n",
    "\n",
    "coeffs, cov = curve_fit(log_n, xdata, ydata)\n",
    "Y = [coeffs.dot(np.array([np.log2(x), 1])) for x in xdata]\n",
    "\n",
    "fig, ax = plt.subplots()\n",
    "ax.plot(xdata,ydata,\"b.\")\n",
    "ax.plot(xdata, Y, 'r-')\n",
    "plt.show()"
   ]
  },
  {
   "cell_type": "markdown",
   "metadata": {},
   "source": [
    "# Analysis of binary search using linked lists\n",
    "Here our analysis suggests $O(n)$."
   ]
  },
  {
   "cell_type": "code",
   "execution_count": 189,
   "metadata": {},
   "outputs": [
    {
     "data": {
      "image/png": "[encoded data removed]",
      "text/plain": [
       "<Figure size 432x288 with 1 Axes>"
      ]
     },
     "metadata": {
      "needs_background": "light"
     },
     "output_type": "display_data"
    }
   ],
   "source": [
    "xdata = np.array([N for N in range(100, 10000, 100)])\n",
    "ydata = np.array([testBinarySearch(N, 50, linked_list = True) for N in range(100, 10000, 100)])\n",
    "\n",
    "coeffs, cov = curve_fit(linear, xdata, ydata)\n",
    "Y = [coeffs.dot(np.array([x, 1])) for x in xdata]\n",
    "\n",
    "fig, ax = plt.subplots()\n",
    "ax.plot(xdata,ydata,\"b.\")\n",
    "ax.plot(xdata, Y, 'r-')\n",
    "plt.show()"
   ]
  },
  {
   "cell_type": "code",
   "execution_count": 193,
   "metadata": {},
   "outputs": [
    {
     "data": {
      "text/plain": [
       "[True,\n",
       " False,\n",
       " True,\n",
       " False,\n",
       " True,\n",
       " False,\n",
       " True,\n",
       " False,\n",
       " True,\n",
       " False,\n",
       " True,\n",
       " False,\n",
       " True,\n",
       " False,\n",
       " True,\n",
       " False,\n",
       " True,\n",
       " False,\n",
       " True,\n",
       " False]"
      ]
     },
     "execution_count": 193,
     "metadata": {},
     "output_type": "execute_result"
    }
   ],
   "source": [
    "[BinarySearch([2*j for j in range(10)],i) for i in range(20)]"
   ]
  },
  {
   "cell_type": "code",
   "execution_count": null,
   "metadata": {},
   "outputs": [],
   "source": []
  }
 ],
 "metadata": {
  "kernelspec": {
   "display_name": "Python 3",
   "language": "python",
   "name": "python3"
  },
  "language_info": {
   "codemirror_mode": {
    "name": "ipython",
    "version": 3
   },
   "file_extension": ".py",
   "mimetype": "text/x-python",
   "name": "python",
   "nbconvert_exporter": "python",
   "pygments_lexer": "ipython3",
   "version": "3.7.3"
  }
 },
 "nbformat": 4,
 "nbformat_minor": 2
}
