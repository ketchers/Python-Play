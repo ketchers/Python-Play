{
 "cells": [
  {
   "cell_type": "code",
   "execution_count": 434,
   "metadata": {},
   "outputs": [],
   "source": [
    "import copy\n",
    "\n",
    "class List():\n",
    "    \"\"\"\n",
    "    Doubly linked list: The methods are\n",
    "      - pushright/pushleft to add items\n",
    "      - popright/popleft to remove and return items\n",
    "      \n",
    "      - Much familiar behavior has been implemented:\n",
    "         > mylist = List([1,2,3,4,5])\n",
    "         > sublist = mylist[1:4]\n",
    "         > mylist[3]\n",
    "         > mylist[3] = 4\n",
    "         > mylist[2:5] = List([3,4,5])\n",
    "         \n",
    "     - Supports copy and deepcopy\n",
    "     - + between two lists does what you expect (returns a new list which is a \n",
    "         concatenated copy of each of the two lists, not a deep copy!)\n",
    "    \"\"\"\n",
    "    class Node():\n",
    "\n",
    "        def __init__(self, data = None, prev = None, next = None):\n",
    "            self.data = data\n",
    "            self.next = next\n",
    "            self.prev = prev\n",
    "            \n",
    "        def __str__(self):\n",
    "            return \"{}\".format(str(self.data))\n",
    "        \n",
    "        def __repr__(self):\n",
    "            return f'Node({self.data})'\n",
    "        \n",
    "    def __init__(self, data = []):\n",
    "        self.sentinel = List.Node()\n",
    "        self.sentinel.next = self.sentinel\n",
    "        self.sentinel.prev = self.sentinel\n",
    "        self.length = 0\n",
    "        for item in data:\n",
    "            self.pushright(item)\n",
    "        \n",
    "    class ListIter():\n",
    "        \n",
    "        def __init__(self, sentinel):\n",
    "            self.cur = sentinel.next\n",
    "            self.sentinel = sentinel\n",
    "        \n",
    "        def __iter__(self):\n",
    "            return self\n",
    "        \n",
    "        def __next__(self):\n",
    "            if self.cur is self.sentinel:\n",
    "                raise StopIteration\n",
    "            data = self.cur.data\n",
    "            self.cur = self.cur.next\n",
    "            return data\n",
    "    \n",
    "    def get_node(self, i):\n",
    "        if i >= self.length:\n",
    "            raise IndexError(f'{i} is out of range!')\n",
    "        node = self.sentinel\n",
    "        if i < self.length // 2:\n",
    "            cur = -1\n",
    "            while cur < i:\n",
    "                node = node.next\n",
    "                cur += 1\n",
    "        else:\n",
    "            cur = 0\n",
    "            while self.length - cur > i:\n",
    "                node = node.prev\n",
    "                cur += 1\n",
    "        return node\n",
    "    \n",
    "    def pushright(self, data):\n",
    "        self.insert_before(self.sentinel, data)\n",
    "        return self\n",
    "\n",
    "    def pushleft(self, data):\n",
    "        self.insert_after(self.sentinel, data)\n",
    "        return self\n",
    "    \n",
    "    def popright(self):\n",
    "        return self.delete_node(self.sentinel.prev)\n",
    "    \n",
    "    def popleft(self):\n",
    "        return self.delete_node(self.sentinel.next)\n",
    "    \n",
    "    def insert_after(self, node, data):\n",
    "        new_node = List.Node(data, node, node.next)\n",
    "        node.next.prev = new_node\n",
    "        node.next = new_node\n",
    "        self.length += 1\n",
    "        \n",
    "    def insert(self, i, data):\n",
    "        if i > self.length:\n",
    "            raise IndexError(f'{i} is out of range!')\n",
    "        if i == 0:\n",
    "            self.insert_after(self.sentinel, data)\n",
    "        else:\n",
    "            self.insert_after(self.get_node(i - 1), data)\n",
    "       \n",
    "    def insert_before(self, node, data):\n",
    "        self.insert_after(node.prev, data)\n",
    "    \n",
    "    def delete_node(self, node):\n",
    "        if node is not self.sentinel:\n",
    "            node.next.prev = node.prev\n",
    "            node.prev.next = node.next\n",
    "            self.length -= 1\n",
    "            return node.data\n",
    "        else:\n",
    "            raise Exception('Can never remove sentinel')\n",
    "            \n",
    "    def remove(self, i):\n",
    "        node = self.get_node(i)\n",
    "        node.prev.next = node.next\n",
    "        node.next.prev = node.prev\n",
    "            \n",
    "    def __getitem__(self, key):\n",
    "        if isinstance( key, slice ) :\n",
    "            #Get the start, stop, and step from the slice\n",
    "            return List([self[ii] for ii in range(*key.indices(len(self)))])\n",
    "        elif isinstance(key, int):\n",
    "            return self.get_node(key).data\n",
    "\n",
    "        else:\n",
    "            raise TypeError(f\"{key} is an invalid key.\")\n",
    "\n",
    "    def __setitem__(self, i, data):\n",
    "        if i >= self.length:\n",
    "            raise IndexError(f'{i} is out of range!')\n",
    "        node = self.get_node(i)\n",
    "        self.insert_after(node, data)\n",
    "        self.delete_node(node)\n",
    "        \n",
    "    def __iter__(self):\n",
    "        return List.ListIter(self.sentinel)\n",
    "    \n",
    "    def __len__(self):\n",
    "        return self.length\n",
    "    \n",
    "    def __copy__(self):\n",
    "        return List(self.__iter__())\n",
    "    \n",
    "    def __deepcopy__(self, memo):\n",
    "        newList = List()\n",
    "        for i in self.__iter__():\n",
    "            if repr(i) not in memo:\n",
    "                print(f'{repr(i)} in memo')\n",
    "                memo[repr(i)] = copy.deepcopy(i)\n",
    "            newList.pushright(memo[repr(i)])\n",
    "        return newList\n",
    "    \n",
    "    def __add__(self, other):\n",
    "        newList = self.__copy__()\n",
    "        for item in other:\n",
    "            newList.pushright(item)\n",
    "        return newList\n",
    "        \n",
    "        \n",
    "                                   \n",
    "    def __str__(self):\n",
    "        #if self.length > 10:\n",
    "        #    list_str = \" -> \".join(itertools.islice((str(node) for node in self),5))\n",
    "        #    list_str += f' -> ... -> {self.sentinel.prev.data}'\n",
    "        #else:\n",
    "        list_str = \" -> \".join((str(node) for node in self))\n",
    "        return f'[{list_str}]'\n",
    "    \n",
    "    def __repr__(self):\n",
    "        #if self.length > 10:\n",
    "        #    list_str = \", \".join(itertools.islice((repr(node) for node in self),5))\n",
    "        #    list_str += f', ..., {self.sentinel.prev.data}'\n",
    "        #else:\n",
    "        list_str = \", \".join((repr(node) for node in self))\n",
    "        return f'List([{list_str}])'"
   ]
  },
  {
   "cell_type": "code",
   "execution_count": 435,
   "metadata": {},
   "outputs": [
    {
     "name": "stdout",
     "output_type": "stream",
     "text": [
      "Help on class List in module __main__:\n",
      "\n",
      "class List(builtins.object)\n",
      " |  List(data=[])\n",
      " |  \n",
      " |  Doubly linked list: The methods are\n",
      " |    - pushright/pushleft to add items\n",
      " |    - popright/popleft to remove and return items\n",
      " |    \n",
      " |    - Much familiar behavior has been implemented:\n",
      " |       > mylist = List([1,2,3,4,5])\n",
      " |       > sublist = mylist[1:4]\n",
      " |       > mylist[3]\n",
      " |       > mylist[3] = 4\n",
      " |       \n",
      " |   - Supports copy and deepcopy\n",
      " |   - + between two lists does what you expect (returns a new list which is a \n",
      " |       concatenated copy of each of the two lists, not a deep copy!)\n",
      " |  \n",
      " |  Methods defined here:\n",
      " |  \n",
      " |  __add__(self, other)\n",
      " |  \n",
      " |  __copy__(self)\n",
      " |  \n",
      " |  __deepcopy__(self, memo)\n",
      " |  \n",
      " |  __getitem__(self, key)\n",
      " |  \n",
      " |  __init__(self, data=[])\n",
      " |      Initialize self.  See help(type(self)) for accurate signature.\n",
      " |  \n",
      " |  __iter__(self)\n",
      " |  \n",
      " |  __len__(self)\n",
      " |  \n",
      " |  __repr__(self)\n",
      " |      Return repr(self).\n",
      " |  \n",
      " |  __setitem__(self, i, data)\n",
      " |  \n",
      " |  __str__(self)\n",
      " |      Return str(self).\n",
      " |  \n",
      " |  delete_node(self, node)\n",
      " |  \n",
      " |  get_node(self, i)\n",
      " |  \n",
      " |  insert(self, i, data)\n",
      " |  \n",
      " |  insert_after(self, node, data)\n",
      " |  \n",
      " |  insert_before(self, node, data)\n",
      " |  \n",
      " |  popleft(self)\n",
      " |  \n",
      " |  popright(self)\n",
      " |  \n",
      " |  pushleft(self, data)\n",
      " |  \n",
      " |  pushright(self, data)\n",
      " |  \n",
      " |  remove(self, i)\n",
      " |  \n",
      " |  ----------------------------------------------------------------------\n",
      " |  Data descriptors defined here:\n",
      " |  \n",
      " |  __dict__\n",
      " |      dictionary for instance variables (if defined)\n",
      " |  \n",
      " |  __weakref__\n",
      " |      list of weak references to the object (if defined)\n",
      " |  \n",
      " |  ----------------------------------------------------------------------\n",
      " |  Data and other attributes defined here:\n",
      " |  \n",
      " |  ListIter = <class '__main__.List.ListIter'>\n",
      " |  \n",
      " |  \n",
      " |  Node = <class '__main__.List.Node'>\n",
      "\n"
     ]
    }
   ],
   "source": [
    "help(List)"
   ]
  },
  {
   "cell_type": "code",
   "execution_count": 433,
   "metadata": {},
   "outputs": [
    {
     "name": "stdout",
     "output_type": "stream",
     "text": [
      "[0 -> 1 -> 2 -> 3 -> 4 -> 5 -> 6 -> 7 -> 8 -> 9] 10\n",
      "[0 -> 1 -> [a -> b] -> 3 -> 4 -> [1, 2, 3] -> [1, 2, 3] -> 7 -> 8 -> 9 -> [a -> b]] 11\n",
      "[0 -> 1 -> [a -> b] -> 4 -> 3 -> 4 -> [1, 2, 3] -> [1, 2, 3] -> 7 -> 8 -> 9 -> [a -> b]] 12\n",
      "[0 -> 1 -> [a -> b] -> 4 -> 3 -> 4 -> [1, 2, 3] -> [1, 2, 3] -> 7 -> 8 -> 9 -> [a -> b] -> 0 -> 1 -> [a -> b] -> 4 -> 3 -> 4 -> [1, 2, 3] -> [1, 2, 3] -> 7 -> 8 -> 9 -> [a -> b]] 24\n"
     ]
    }
   ],
   "source": [
    "l = List(range(10))\n",
    "print(l, len(l))\n",
    "ll = List(['a','b'])\n",
    "l[2] = ll\n",
    "l.pushright(ll)\n",
    "lll = [1,2,3]\n",
    "l[5] = lll\n",
    "l[6] = lll\n",
    "len(l)\n",
    "print(l, len(l))\n",
    "l.insert(3, 4)\n",
    "print(l, len(l))\n",
    "L = l + l\n",
    "print(L, len(L))\n"
   ]
  },
  {
   "cell_type": "code",
   "execution_count": 407,
   "metadata": {},
   "outputs": [
    {
     "name": "stdout",
     "output_type": "stream",
     "text": [
      "0 in memo\n",
      "1 in memo\n",
      "List(['a', 'b']) in memo\n",
      "'a' in memo\n",
      "'b' in memo\n",
      "4 in memo\n",
      "3 in memo\n",
      "[1, 2, 3] in memo\n",
      "7 in memo\n",
      "8 in memo\n",
      "9 in memo\n"
     ]
    }
   ],
   "source": [
    "import copy\n",
    "L = copy.copy(l)\n",
    "LD = copy.deepcopy(l)"
   ]
  },
  {
   "cell_type": "code",
   "execution_count": 425,
   "metadata": {},
   "outputs": [
    {
     "data": {
      "text/plain": [
       "'foo'"
      ]
     },
     "execution_count": 425,
     "metadata": {},
     "output_type": "execute_result"
    }
   ],
   "source": [
    "L=List()\n",
    "next_str = 'self' if l.sentinel.next is l.sentinel else \"foo\"\n",
    "next_str"
   ]
  },
  {
   "cell_type": "code",
   "execution_count": 426,
   "metadata": {},
   "outputs": [
    {
     "data": {
      "text/plain": [
       "Node(None)"
      ]
     },
     "execution_count": 426,
     "metadata": {},
     "output_type": "execute_result"
    }
   ],
   "source": [
    "L.sentinel.next"
   ]
  },
  {
   "cell_type": "code",
   "execution_count": 386,
   "metadata": {},
   "outputs": [
    {
     "data": {
      "text/plain": [
       "List([0, 1, List(['a', 'c']), 4, 3, 4, 5, 6, 7, 8, 9])"
      ]
     },
     "execution_count": 386,
     "metadata": {},
     "output_type": "execute_result"
    }
   ],
   "source": [
    "L"
   ]
  },
  {
   "cell_type": "code",
   "execution_count": 266,
   "metadata": {},
   "outputs": [
    {
     "data": {
      "text/plain": [
       "'a'"
      ]
     },
     "execution_count": 266,
     "metadata": {},
     "output_type": "execute_result"
    }
   ],
   "source": [
    "str(l)"
   ]
  },
  {
   "cell_type": "code",
   "execution_count": 5,
   "metadata": {},
   "outputs": [
    {
     "name": "stdout",
     "output_type": "stream",
     "text": [
      "> \u001b[1;32m<ipython-input-4-4f71f1d0279b>\u001b[0m(1)\u001b[0;36m<module>\u001b[1;34m()\u001b[0m\n",
      "\u001b[1;32m----> 1 \u001b[1;33m\u001b[0ml\u001b[0m\u001b[1;33m.\u001b[0m\u001b[0madd\u001b[0m\u001b[1;33m(\u001b[0m\u001b[1;34m'a'\u001b[0m\u001b[1;33m)\u001b[0m\u001b[1;33m.\u001b[0m\u001b[0madd\u001b[0m\u001b[1;33m(\u001b[0m\u001b[1;34m'b'\u001b[0m\u001b[1;33m)\u001b[0m\u001b[1;33m\u001b[0m\u001b[1;33m\u001b[0m\u001b[0m\n",
      "\u001b[0m\n"
     ]
    },
    {
     "name": "stdin",
     "output_type": "stream",
     "text": [
      "ipdb>  display self.__head__\n"
     ]
    },
    {
     "name": "stdout",
     "output_type": "stream",
     "text": [
      "display self.__head__: ** raised NameError: name 'self' is not defined **\n"
     ]
    },
    {
     "name": "stdin",
     "output_type": "stream",
     "text": [
      "ipdb>  display l.__head__\n"
     ]
    },
    {
     "name": "stdout",
     "output_type": "stream",
     "text": [
      "display l.__head__: <__main__.List.Node object at 0x0000016780A95198>\n"
     ]
    },
    {
     "name": "stdin",
     "output_type": "stream",
     "text": [
      "ipdb>  display l.__head__.next\n"
     ]
    },
    {
     "name": "stdout",
     "output_type": "stream",
     "text": [
      "display l.__head__.next: <__main__.List.Node object at 0x0000016780A76C88>\n"
     ]
    },
    {
     "name": "stdin",
     "output_type": "stream",
     "text": [
      "ipdb>  str(l.__head__)\n"
     ]
    },
    {
     "name": "stdout",
     "output_type": "stream",
     "text": [
      "*** RecursionError: maximum recursion depth exceeded while getting the str of an object\n"
     ]
    },
    {
     "name": "stdin",
     "output_type": "stream",
     "text": [
      "ipdb>  quit\n"
     ]
    }
   ],
   "source": [
    "%debug"
   ]
  },
  {
   "cell_type": "code",
   "execution_count": 74,
   "metadata": {},
   "outputs": [
    {
     "data": {
      "text/plain": [
       "[]"
      ]
     },
     "execution_count": 74,
     "metadata": {},
     "output_type": "execute_result"
    }
   ],
   "source": [
    "[i for i in l]"
   ]
  },
  {
   "cell_type": "code",
   "execution_count": null,
   "metadata": {},
   "outputs": [],
   "source": []
  },
  {
   "cell_type": "code",
   "execution_count": null,
   "metadata": {},
   "outputs": [],
   "source": []
  },
  {
   "cell_type": "code",
   "execution_count": 14,
   "metadata": {},
   "outputs": [],
   "source": [
    "class Cats():\n",
    "    class _cats_iter():\n",
    "        def __init__(self, cats):\n",
    "            self.cats = cats\n",
    "            self.cur = 0\n",
    "        \n",
    "        def __iter__(self):\n",
    "            return self\n",
    "        \n",
    "        def __next__(self):\n",
    "            i = self.cur\n",
    "            if i >= len(self.cats):\n",
    "                raise StopIteration\n",
    "            self.cur += 1\n",
    "            return self.cats[i]\n",
    "        \n",
    "    def __init__(self):\n",
    "        self.cats = []\n",
    "        \n",
    "    def add(self, name):\n",
    "        self.cats.append(name)\n",
    "        return self\n",
    "    \n",
    "    def __iter__(self):\n",
    "        return Cats._cats_iter(self.cats)\n"
   ]
  },
  {
   "cell_type": "code",
   "execution_count": 21,
   "metadata": {},
   "outputs": [],
   "source": [
    "c = Cats()"
   ]
  },
  {
   "cell_type": "code",
   "execution_count": 22,
   "metadata": {},
   "outputs": [
    {
     "data": {
      "text/plain": [
       "<__main__.Cats at 0x285f9e69320>"
      ]
     },
     "execution_count": 22,
     "metadata": {},
     "output_type": "execute_result"
    }
   ],
   "source": [
    "c.add('Penny').add('Genera')"
   ]
  },
  {
   "cell_type": "code",
   "execution_count": 23,
   "metadata": {},
   "outputs": [
    {
     "data": {
      "text/plain": [
       "['Penny', 'Genera']"
      ]
     },
     "execution_count": 23,
     "metadata": {},
     "output_type": "execute_result"
    }
   ],
   "source": [
    "[a for a in c]"
   ]
  },
  {
   "cell_type": "code",
   "execution_count": 24,
   "metadata": {},
   "outputs": [],
   "source": []
  },
  {
   "cell_type": "code",
   "execution_count": 26,
   "metadata": {},
   "outputs": [
    {
     "data": {
      "text/plain": [
       "['Penny', 'Genera']"
      ]
     },
     "execution_count": 26,
     "metadata": {},
     "output_type": "execute_result"
    }
   ],
   "source": [
    "j = c.__iter__()\n",
    "[a for a in j]"
   ]
  },
  {
   "cell_type": "code",
   "execution_count": 6,
   "metadata": {},
   "outputs": [],
   "source": [
    "class A():\n",
    "    def __init__(self, a, b):\n",
    "        self.__a = a\n",
    "        self._b = b\n"
   ]
  },
  {
   "cell_type": "code",
   "execution_count": 8,
   "metadata": {},
   "outputs": [],
   "source": [
    "aclass = A(1,2)"
   ]
  },
  {
   "cell_type": "code",
   "execution_count": 14,
   "metadata": {},
   "outputs": [
    {
     "data": {
      "text/plain": [
       "1"
      ]
     },
     "execution_count": 14,
     "metadata": {},
     "output_type": "execute_result"
    }
   ],
   "source": [
    "aclass._A__a"
   ]
  },
  {
   "cell_type": "code",
   "execution_count": null,
   "metadata": {},
   "outputs": [],
   "source": []
  }
 ],
 "metadata": {
  "kernelspec": {
   "display_name": "Python 3",
   "language": "python",
   "name": "python3"
  },
  "language_info": {
   "codemirror_mode": {
    "name": "ipython",
    "version": 3
   },
   "file_extension": ".py",
   "mimetype": "text/x-python",
   "name": "python",
   "nbconvert_exporter": "python",
   "pygments_lexer": "ipython3",
   "version": "3.7.3"
  }
 },
 "nbformat": 4,
 "nbformat_minor": 2
}
