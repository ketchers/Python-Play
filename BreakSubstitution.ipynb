{
 "cells": [
  {
   "cell_type": "code",
   "execution_count": 164,
   "metadata": {},
   "outputs": [],
   "source": [
    "import random\n",
    "import matplotlib\n",
    "import pylab as plt\n"
   ]
  },
  {
   "cell_type": "markdown",
   "metadata": {},
   "source": [
    "We will use 8 byte encoding of characters and default to \"latin-1\". This allows 256! (factorial) substitution maps (keys), this is a huge keyspace."
   ]
  },
  {
   "cell_type": "code",
   "execution_count": 101,
   "metadata": {},
   "outputs": [],
   "source": [
    "substitution_map = random.sample(range(256),256)\n",
    "encoding_map = dict(zip(range(256), substitution_map))\n",
    "decoding_map = dict(zip(substitution_map, range(256)))"
   ]
  },
  {
   "cell_type": "markdown",
   "metadata": {},
   "source": [
    "The following two functions encode and decode a file. Binary is used for reading and writing so no encoding is required."
   ]
  },
  {
   "cell_type": "code",
   "execution_count": 206,
   "metadata": {},
   "outputs": [],
   "source": [
    "def encode_file(input_file, output_file, encoding_map):\n",
    "    with open(input_file, \"rb\") as infile, open(output_file, \"w+b\") as outfile:\n",
    "        byte = infile.read(1).lower()\n",
    "        while byte:\n",
    "            newbyte = bytes([encoding_map[byte[0]]])\n",
    "            outfile.write(newbyte)\n",
    "            byte = infile.read(1).lower()\n",
    "            \n",
    "def decode_file(input_file, output_file, decoding_map):\n",
    "    with open(input_file, \"rb\") as infile, open(output_file, \"w+b\") as outfile:\n",
    "        byte = infile.read(1)\n",
    "        while byte:\n",
    "            newbyte = bytes([decoding_map[byte[0]]])\n",
    "            outfile.write(newbyte)\n",
    "            byte = infile.read(1)"
   ]
  },
  {
   "cell_type": "markdown",
   "metadata": {},
   "source": [
    "Run a basic test on the encoding/decoding."
   ]
  },
  {
   "cell_type": "code",
   "execution_count": 208,
   "metadata": {},
   "outputs": [],
   "source": [
    "encode_file(\"big.txt\", \"cyphertext.txt\", encoding_map)\n",
    "decode_file(\"cyphertext.txt\", \"decoded.txt\", decoding_map)"
   ]
  },
  {
   "cell_type": "markdown",
   "metadata": {},
   "source": [
    "The net two functions encode and decode strings, here we have to concern ourselves with encoding."
   ]
  },
  {
   "cell_type": "code",
   "execution_count": 106,
   "metadata": {},
   "outputs": [],
   "source": [
    "def encode_string(string, encoding_map):\n",
    "    return \"\".join(map(lambda x: chr(x), bytes(map(lambda x: encoding_map[x], bytes(string, 'latin-1')))))\n",
    "\n",
    "def decode_string(string, encoding_map):\n",
    "    return \"\".join(map(lambda x: chr(x), bytes(map(lambda x: decoding_map[x], bytes(string, 'latin-1')))))"
   ]
  },
  {
   "cell_type": "markdown",
   "metadata": {},
   "source": [
    "Again, another simple test case."
   ]
  },
  {
   "cell_type": "code",
   "execution_count": 107,
   "metadata": {},
   "outputs": [
    {
     "data": {
      "text/plain": [
       "('Hello Dara!', \"ÉÖôôÝ,4Ù¾Ù'\", 'Hello Dara!')"
      ]
     },
     "execution_count": 107,
     "metadata": {},
     "output_type": "execute_result"
    }
   ],
   "source": [
    "plaintext = \"Hello Dara!\"\n",
    "cyphertext = encode_string(plaintext, encoding_map)\n",
    "decodedtext =  decode_string(cyphertext, decoding_map)\n",
    "(plaintext, cyphertext, decodedtext)"
   ]
  },
  {
   "cell_type": "code",
   "execution_count": 117,
   "metadata": {},
   "outputs": [],
   "source": [
    "def get_char_dist(input_file):\n",
    "    char_count = dict(((i,0) for i in range(256)))\n",
    "    with open(input_file, \"rb\") as infile:\n",
    "        byte = infile.read(1)\n",
    "        while byte:\n",
    "            char_count[byte[0]] += 1\n",
    "            byte = infile.read(1)\n",
    "    return char_count\n",
    "        "
   ]
  },
  {
   "cell_type": "code",
   "execution_count": 293,
   "metadata": {},
   "outputs": [],
   "source": [
    "counts_plain = list(get_char_dist(\"big.txt\").items())\n",
    "counts_plain.sort(reverse=True, key=lambda x: x[1])\n",
    "\n",
    "counts_cypher = list(get_char_dist(\"cyphertext.txt\").items())\n",
    "counts_cypher.sort(reverse=True, key=lambda x: x[1])"
   ]
  },
  {
   "cell_type": "code",
   "execution_count": 301,
   "metadata": {},
   "outputs": [],
   "source": []
  },
  {
   "cell_type": "code",
   "execution_count": 311,
   "metadata": {},
   "outputs": [
    {
     "data": {
      "image/png": "[encoded data removed]",
      "text/plain": [
       "<Figure size 720x720 with 2 Axes>"
      ]
     },
     "metadata": {
      "needs_background": "light"
     },
     "output_type": "display_data"
    }
   ],
   "source": [
    "fig, (ax1, ax2) = plt.subplots(2, 1, figsize=(10,10))\n",
    "\n",
    "N = sum([f for i, f in counts_plain]) # if i in range(ord('a'), ord('z')+1) or i == ord(' ')]) \n",
    "#freq_plain = [(chr(i), f/N) for i, f in counts_plain if i in range(ord('a'), ord('z')+1) or i == ord(' ')]\n",
    "freq_plain = [(chr(i), f/N) for i, f in counts_plain[0:30]]\n",
    "\n",
    "ax1.stem([j for i, j in freq_plain], use_line_collection=True)\n",
    "ax1.set_xticks(range(30))\n",
    "ax1.set_xticklabels([f\"{chr(i)}\" for i, j in counts_plain[0:30]])\n",
    "\n",
    "M = sum([f for i, f in counts_cypher]) \n",
    "freq_cypher = [(i, f/M) for i, f in counts_cypher[0:30]]\n",
    "\n",
    "ax2.stem([f for i, f in freq_cypher], use_line_collection=True)\n",
    "ax2.set_xticks(range(30))\n",
    "a = ax2.set_xticklabels([f\"{i:02x}\" for i, j in counts_cypher[0:30]])"
   ]
  },
  {
   "cell_type": "markdown",
   "metadata": {},
   "source": [
    "# English Letter Frequency\n",
    "Eglish letter frequencies can be found on-line. Our frequency table is taken from [WikiPedia](https://en.wikipedia.org/wiki/Letter_frequency). The following need not be run as the frequencies have been precomputed."
   ]
  },
  {
   "cell_type": "code",
   "execution_count": 305,
   "metadata": {},
   "outputs": [],
   "source": [
    "import pandas as pd\n",
    "\n",
    "def get_freqs():\n",
    "    freqs = pd.read_excel(\"LetterFrequency.xlsx\")\n",
    "    eng_freq = freqs[['Letter','English']]\n",
    "    N = len(eng_freq)\n",
    "    eng_freq_sorted = eng_freq.sort_values(by='English',ascending=False)\n",
    "    eng_freqs = [[' ', 0.15641]] + [list(eng_freq_sorted.iloc[i,0:2]) for i in range(26)]\n",
    "    return eng_freqs"
   ]
  },
  {
   "cell_type": "code",
   "execution_count": 306,
   "metadata": {},
   "outputs": [],
   "source": [
    "eng_freqs = [[' ', 0.15641],\n",
    " ['e', 0.12702],\n",
    " ['t', 0.09056],\n",
    " ['a', 0.08167],\n",
    " ['o', 0.07507],\n",
    " ['i', 0.06966],\n",
    " ['n', 0.06749],\n",
    " ['s', 0.06327],\n",
    " ['h', 0.06094],\n",
    " ['r', 0.05987],\n",
    " ['d', 0.04253],\n",
    " ['l', 0.04025],\n",
    " ['c', 0.02782],\n",
    " ['u', 0.02758],\n",
    " ['m', 0.02406],\n",
    " ['w', 0.0236],\n",
    " ['f', 0.02228],\n",
    " ['g', 0.02015],\n",
    " ['y', 0.01974],\n",
    " ['p', 0.01929],\n",
    " ['b', 0.01492],\n",
    " ['v', 0.00978],\n",
    " ['k', 0.00772],\n",
    " ['j', 0.00153],\n",
    " ['x', 0.0015],\n",
    " ['q', 0.00095],\n",
    " ['z', 0.00074]]"
   ]
  },
  {
   "cell_type": "code",
   "execution_count": 308,
   "metadata": {},
   "outputs": [
    {
     "data": {
      "image/png": "[encoded data removed]",
      "text/plain": [
       "<Figure size 720x360 with 1 Axes>"
      ]
     },
     "metadata": {
      "needs_background": "light"
     },
     "output_type": "display_data"
    }
   ],
   "source": [
    "fig, ax = plt.subplots(figsize=(10,5))\n",
    "ax.stem([j for i,j in eng_freqs], use_line_collection=True)\n",
    "ax.set_xticks(range(27))\n",
    "a = ax.set_xticklabels([i for i, j in eng_freqs])"
   ]
  },
  {
   "cell_type": "code",
   "execution_count": 319,
   "metadata": {},
   "outputs": [],
   "source": [
    "break_dict = dict(zip([i for i, j in counts_cypher[:27]], [i for i, j in eng_freqs]))\n",
    "break_dict[counts_cypher[0][0]] = ' '\n",
    "for i in range(256):\n",
    "    break_dict.setdefault(i,'?')"
   ]
  },
  {
   "cell_type": "code",
   "execution_count": 317,
   "metadata": {},
   "outputs": [],
   "source": [
    "def break_file(input_file, output_file, decoding_map):\n",
    "    with open(input_file, \"rb\") as infile, open(output_file, \"w+b\") as outfile:\n",
    "        byte = infile.read(1)\n",
    "        while byte:\n",
    "            newbyte = bytes([ord(decoding_map[byte[0]])])\n",
    "            outfile.write(newbyte)\n",
    "            byte = infile.read(1)"
   ]
  },
  {
   "cell_type": "code",
   "execution_count": 374,
   "metadata": {},
   "outputs": [
    {
     "ename": "TypeError",
     "evalue": "unhashable type: 'list'",
     "output_type": "error",
     "traceback": [
      "\u001b[1;31m---------------------------------------------------------------------------\u001b[0m",
      "\u001b[1;31mTypeError\u001b[0m                                 Traceback (most recent call last)",
      "\u001b[1;32m<ipython-input-374-a5f7a7c7e474>\u001b[0m in \u001b[0;36m<module>\u001b[1;34m\u001b[0m\n\u001b[1;32m----> 1\u001b[1;33m \u001b[0mbreak_dict\u001b[0m\u001b[1;33m[\u001b[0m\u001b[1;33m[\u001b[0m\u001b[1;34m'r'\u001b[0m\u001b[1;33m,\u001b[0m\u001b[1;34m's'\u001b[0m\u001b[1;33m]\u001b[0m\u001b[1;33m]\u001b[0m\u001b[1;33m\u001b[0m\u001b[1;33m\u001b[0m\u001b[0m\n\u001b[0m",
      "\u001b[1;31mTypeError\u001b[0m: unhashable type: 'list'"
     ]
    }
   ],
   "source": []
  },
  {
   "cell_type": "code",
   "execution_count": 326,
   "metadata": {},
   "outputs": [],
   "source": [
    "break_dict[190] = 'r'\n",
    "break_dict[184] = 'h'\n",
    "break_dict[56] = 'y'\n",
    "break_dict[224] = 'p'\n",
    "break_dict[8] = 'g'\n",
    "break_dict[255] = 'j'\n",
    "break_dict[2] = 'n'\n",
    "break_dict[20] = 'i'\n",
    "break_dict[180] = 'b'\n",
    "break_dict[234] = 'k'"
   ]
  },
  {
   "cell_type": "code",
   "execution_count": 327,
   "metadata": {},
   "outputs": [],
   "source": [
    "break_file(\"cyphertext.txt\", \"broken.txt\", break_dict)"
   ]
  },
  {
   "cell_type": "code",
   "execution_count": 283,
   "metadata": {},
   "outputs": [
    {
     "data": {
      "text/plain": [
       "255"
      ]
     },
     "execution_count": 283,
     "metadata": {},
     "output_type": "execute_result"
    }
   ],
   "source": [
    "int(0xff)"
   ]
  },
  {
   "cell_type": "code",
   "execution_count": 275,
   "metadata": {},
   "outputs": [
    {
     "data": {
      "text/plain": [
       "{214: 'e',\n",
       " 117: 't',\n",
       " 217: 'a',\n",
       " 221: 'o',\n",
       " 2: 'i',\n",
       " 20: 'n',\n",
       " 85: 's',\n",
       " 190: 'h',\n",
       " 184: 'r',\n",
       " 73: 'd',\n",
       " 244: 'l',\n",
       " 237: 'c',\n",
       " 206: 'u',\n",
       " 249: 'm',\n",
       " 45: 'w',\n",
       " 164: 'f',\n",
       " 56: 'g',\n",
       " 224: 'y',\n",
       " 8: 'p',\n",
       " 209: 'b',\n",
       " 166: 'v',\n",
       " 180: 'k',\n",
       " 123: 'j',\n",
       " 251: 'x',\n",
       " 234: 'q',\n",
       " 141: 'z',\n",
       " 44: ' ',\n",
       " 0: '?',\n",
       " 1: '?',\n",
       " 3: '?',\n",
       " 4: '?',\n",
       " 5: '?',\n",
       " 6: '?',\n",
       " 7: '?',\n",
       " 9: '?',\n",
       " 10: '?',\n",
       " 11: '?',\n",
       " 12: '?',\n",
       " 13: '?',\n",
       " 14: '?',\n",
       " 15: '?',\n",
       " 16: '?',\n",
       " 17: '?',\n",
       " 18: '?',\n",
       " 19: '?',\n",
       " 21: '?',\n",
       " 22: '?',\n",
       " 23: '?',\n",
       " 24: '?',\n",
       " 25: '?',\n",
       " 26: '?',\n",
       " 27: '?',\n",
       " 28: '?',\n",
       " 29: '?',\n",
       " 30: '?',\n",
       " 31: '?',\n",
       " 32: '?',\n",
       " 33: '?',\n",
       " 34: '?',\n",
       " 35: '?',\n",
       " 36: '?',\n",
       " 37: '?',\n",
       " 38: '?',\n",
       " 39: '?',\n",
       " 40: '?',\n",
       " 41: '?',\n",
       " 42: '?',\n",
       " 43: '?',\n",
       " 46: '?',\n",
       " 47: '?',\n",
       " 48: '?',\n",
       " 49: '?',\n",
       " 50: '?',\n",
       " 51: '?',\n",
       " 52: '?',\n",
       " 53: '?',\n",
       " 54: '?',\n",
       " 55: '?',\n",
       " 57: '?',\n",
       " 58: '?',\n",
       " 59: '?',\n",
       " 60: '?',\n",
       " 61: '?',\n",
       " 62: '?',\n",
       " 63: '?',\n",
       " 64: '?',\n",
       " 65: '?',\n",
       " 66: '?',\n",
       " 67: '?',\n",
       " 68: '?',\n",
       " 69: '?',\n",
       " 70: '?',\n",
       " 71: '?',\n",
       " 72: '?',\n",
       " 74: '?',\n",
       " 75: '?',\n",
       " 76: '?',\n",
       " 77: '?',\n",
       " 78: '?',\n",
       " 79: '?',\n",
       " 80: '?',\n",
       " 81: '?',\n",
       " 82: '?',\n",
       " 83: '?',\n",
       " 84: '?',\n",
       " 86: '?',\n",
       " 87: '?',\n",
       " 88: '?',\n",
       " 89: '?',\n",
       " 90: '?',\n",
       " 91: '?',\n",
       " 92: '?',\n",
       " 93: '?',\n",
       " 94: '?',\n",
       " 95: '?',\n",
       " 96: '?',\n",
       " 97: '?',\n",
       " 98: '?',\n",
       " 99: '?',\n",
       " 100: '?',\n",
       " 101: '?',\n",
       " 102: '?',\n",
       " 103: '?',\n",
       " 104: '?',\n",
       " 105: '?',\n",
       " 106: '?',\n",
       " 107: '?',\n",
       " 108: '?',\n",
       " 109: '?',\n",
       " 110: '?',\n",
       " 111: '?',\n",
       " 112: '?',\n",
       " 113: '?',\n",
       " 114: '?',\n",
       " 115: '?',\n",
       " 116: '?',\n",
       " 118: '?',\n",
       " 119: '?',\n",
       " 120: '?',\n",
       " 121: '?',\n",
       " 122: '?',\n",
       " 124: '?',\n",
       " 125: '?',\n",
       " 126: '?',\n",
       " 127: '?',\n",
       " 128: '?',\n",
       " 129: '?',\n",
       " 130: '?',\n",
       " 131: '?',\n",
       " 132: '?',\n",
       " 133: '?',\n",
       " 134: '?',\n",
       " 135: '?',\n",
       " 136: '?',\n",
       " 137: '?',\n",
       " 138: '?',\n",
       " 139: '?',\n",
       " 140: '?',\n",
       " 142: '?',\n",
       " 143: '?',\n",
       " 144: '?',\n",
       " 145: '?',\n",
       " 146: '?',\n",
       " 147: '?',\n",
       " 148: '?',\n",
       " 149: '?',\n",
       " 150: '?',\n",
       " 151: '?',\n",
       " 152: '?',\n",
       " 153: '?',\n",
       " 154: '?',\n",
       " 155: '?',\n",
       " 156: '?',\n",
       " 157: '?',\n",
       " 158: '?',\n",
       " 159: '?',\n",
       " 160: '?',\n",
       " 161: '?',\n",
       " 162: '?',\n",
       " 163: '?',\n",
       " 165: '?',\n",
       " 167: '?',\n",
       " 168: '?',\n",
       " 169: '?',\n",
       " 170: '?',\n",
       " 171: '?',\n",
       " 172: '?',\n",
       " 173: '?',\n",
       " 174: '?',\n",
       " 175: '?',\n",
       " 176: '?',\n",
       " 177: '?',\n",
       " 178: '?',\n",
       " 179: '?',\n",
       " 181: '?',\n",
       " 182: '?',\n",
       " 183: '?',\n",
       " 185: '?',\n",
       " 186: '?',\n",
       " 187: '?',\n",
       " 188: '?',\n",
       " 189: '?',\n",
       " 191: '?',\n",
       " 192: '?',\n",
       " 193: '?',\n",
       " 194: '?',\n",
       " 195: '?',\n",
       " 196: '?',\n",
       " 197: '?',\n",
       " 198: '?',\n",
       " 199: '?',\n",
       " 200: '?',\n",
       " 201: '?',\n",
       " 202: '?',\n",
       " 203: '?',\n",
       " 204: '?',\n",
       " 205: '?',\n",
       " 207: '?',\n",
       " 208: '?',\n",
       " 210: '?',\n",
       " 211: '?',\n",
       " 212: '?',\n",
       " 213: '?',\n",
       " 215: '?',\n",
       " 216: '?',\n",
       " 218: '?',\n",
       " 219: '?',\n",
       " 220: '?',\n",
       " 222: '?',\n",
       " 223: '?',\n",
       " 225: '?',\n",
       " 226: '?',\n",
       " 227: '?',\n",
       " 228: '?',\n",
       " 229: '?',\n",
       " 230: '?',\n",
       " 231: '?',\n",
       " 232: '?',\n",
       " 233: '?',\n",
       " 235: '?',\n",
       " 236: '?',\n",
       " 238: '?',\n",
       " 239: '?',\n",
       " 240: '?',\n",
       " 241: '?',\n",
       " 242: '?',\n",
       " 243: '?',\n",
       " 245: '?',\n",
       " 246: '?',\n",
       " 247: '?',\n",
       " 248: '?',\n",
       " 250: '?',\n",
       " 252: '?',\n",
       " 253: '?',\n",
       " 254: '?',\n",
       " 255: '?',\n",
       " '190': 'r',\n",
       " '184': 'h'}"
      ]
     },
     "execution_count": 275,
     "metadata": {},
     "output_type": "execute_result"
    }
   ],
   "source": [
    "break_dict\n"
   ]
  },
  {
   "cell_type": "code",
   "execution_count": null,
   "metadata": {},
   "outputs": [],
   "source": []
  }
 ],
 "metadata": {
  "kernelspec": {
   "display_name": "Python 3",
   "language": "python",
   "name": "python3"
  },
  "language_info": {
   "codemirror_mode": {
    "name": "ipython",
    "version": 3
   },
   "file_extension": ".py",
   "mimetype": "text/x-python",
   "name": "python",
   "nbconvert_exporter": "python",
   "pygments_lexer": "ipython3",
   "version": "3.7.3"
  }
 },
 "nbformat": 4,
 "nbformat_minor": 2
}
