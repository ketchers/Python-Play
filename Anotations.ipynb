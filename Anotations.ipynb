{
 "cells": [
  {
   "cell_type": "markdown",
   "metadata": {},
   "source": [
    "[What does -> mean in Python function definitions?](https://stackoverflow.com/questions/14379753/what-does-mean-in-python-function-definitions)"
   ]
  },
  {
   "cell_type": "code",
   "execution_count": 10,
   "metadata": {},
   "outputs": [],
   "source": [
    "def getString(n) -> int:\n",
    "    if isinstance(n, getString.__annotations__['return']):\n",
    "        return n\n",
    "    else:\n",
    "        return \"Wrong type of argument\""
   ]
  },
  {
   "cell_type": "code",
   "execution_count": null,
   "metadata": {},
   "outputs": [],
   "source": [
    "class crand():\n",
    "    \"\"\"\n",
    "    A random number generator, if kind = int generates a random\n",
    "    int between 0 and 2147483647 = 0x7fffffff. If kind is float \n",
    "    generates random float in (0,1). \n",
    "    \"\"\"\n",
    "    def __init__(self, seed = 1234, kind = int):\n",
    "        self.state = seed\n",
    "        self.kind = kind\n",
    "    \n",
    "    def __call__(self):\n",
    "        return self.__next__()\n",
    "\n",
    "    def __iter__(self):\n",
    "        return self\n",
    "    \n",
    "    def __next__(self):\n",
    "        self.state = ((self.state * 1103515245) + 12345) % 2147483647\n",
    "        if self.kind is float:\n",
    "            return self.state / 2147483647\n",
    "        return self.state"
   ]
  }
 ],
 "metadata": {
  "kernelspec": {
   "display_name": "Python 3",
   "language": "python",
   "name": "python3"
  },
  "language_info": {
   "codemirror_mode": {
    "name": "ipython",
    "version": 3
   },
   "file_extension": ".py",
   "mimetype": "text/x-python",
   "name": "python",
   "nbconvert_exporter": "python",
   "pygments_lexer": "ipython3",
   "version": "3.7.3"
  }
 },
 "nbformat": 4,
 "nbformat_minor": 2
}
