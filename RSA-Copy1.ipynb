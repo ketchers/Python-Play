{
 "cells": [
  {
   "cell_type": "code",
   "execution_count": 1,
   "metadata": {},
   "outputs": [],
   "source": [
    "import pylab as plt\n",
    "import time as time\n",
    "from math import log\n",
    "from sys import stderr\n",
    "import random as random\n",
    "\n",
    "\n",
    "def timer(f, *args, **kwargs):\n",
    "    \"\"\"\n",
    "    This can be used for testing the speed of certain operations.\n",
    "    \"\"\"\n",
    "    start = time.perf_counter_ns()\n",
    "    f(*args, **kwargs)\n",
    "    return time.perf_counter_ns() - start"
   ]
  },
  {
   "cell_type": "markdown",
   "metadata": {},
   "source": [
    "### A few helper functions\n",
    "There are several functions required to perform RSA. The most interesting is `bezout(a,b)` which solves for integer $s$ and $t$ given positive integers $a$ and $b$ so that $$sa + tb = \\gcd(a,b)$$ "
   ]
  },
  {
   "cell_type": "code",
   "execution_count": 2,
   "metadata": {},
   "outputs": [],
   "source": [
    "def gcd(m,n):\n",
    "    k = m % n\n",
    "    return n if k == 0 else gcd(n, k) "
   ]
  },
  {
   "cell_type": "code",
   "execution_count": 3,
   "metadata": {},
   "outputs": [],
   "source": [
    "def bezout(a, b):\n",
    "    \"\"\"\n",
    "\n",
    "    bezout: Finds s and t so that s*m + t*n = gcd\n",
    "     If gcd(m,n) = 1, then a mod n = m^-1 mod n\n",
    "\n",
    "     The point at each stage of the Eucldean algorithm\n",
    "     Assume a >= b(not necessary)\n",
    "     r_0 = a, r_1 = b, r_2 = r_0 mod r_1, ... r_i = r_{i-2} mod r_{i-1}\n",
    "     So r_0 > r_1 > r_2 ... >= 0\n",
    "     At each stage s_i*a + t_i*b = a_i\n",
    "     q_i*a_{i-1} + a_i = a_{i-2}\n",
    "     q_i(s_{i-1}*a + t_{i-1}*b) + a_i = s_{i-2}*a + t_{i-2}*b\n",
    "     [s_i, t_i] = [s_{i-2}, t_{i-2}] - q_i*[s_{i-1}, t_{i-1}] (*)\n",
    "     and q_i = floor(a_{i-2}/a_{i-1})\n",
    "     As soon as r_{i} = 0 we are done and want to take s_{i-1}, t_{i - 1}\n",
    "     (*) indicates why I use \"pairs\" rather than s, t\n",
    "     Themain point is there is some s, t so that:\n",
    "           gcd(a,b) = gcd(b, a mod b) = s*a + t*b\n",
    "     Tracking this gives the algorithm\n",
    "    \"\"\"\n",
    "\n",
    "\n",
    "    a0 = [1, 0]  # [s_{i-2}, t_{i-2}]\n",
    "    a1 = [0, 1]  # [s_{i-1}, t_{i-1}]\n",
    "\n",
    "    B = [a, b]\n",
    "    r = b\n",
    "\n",
    "    while r > 0:\n",
    "        aa = a0[0]*B[0] + a0[1]*B[1]  # a_{i-2}\n",
    "        bb = a1[0]*B[0] + a1[1]*B[1]  # a_{i-1}\n",
    "        r = aa % bb  # a_i\n",
    "        if r == 0:\n",
    "            break\n",
    "        q = aa // bb  # q_i\n",
    "        tmp = [x - q*y for x,y in zip(a0, a1)]  # [s_i, t_i]\n",
    "        a0 = a1  # reset for next round\n",
    "        a1 = tmp;\n",
    "    s = a1[0]; t = a1[1]; gcd = bb;\n",
    "    return (s, t, gcd)"
   ]
  },
  {
   "cell_type": "markdown",
   "metadata": {},
   "source": [
    "Computing $m^e \\bmod \\phi(n)$ or $c^d \\bmod \\phi(n)$ can take a long time if exponentiation without thinking. The following uses about $\\log_2(d)$ multiplication and mod operations instead of the $d$ many of these operations if `m ** d % n` were used."
   ]
  },
  {
   "cell_type": "code",
   "execution_count": 4,
   "metadata": {},
   "outputs": [],
   "source": [
    "def fast_exp(m,e,n):\n",
    "    if e == 0: \n",
    "        return 1\n",
    "    if e == 1:\n",
    "        return m % n\n",
    "    tmp = fast_exp(m, e >> 1, n)\n",
    "    if (e >> 1) < ((e + 1) >> 1):\n",
    "        return (tmp * tmp * m) % n\n",
    "    return (tmp * tmp) % n"
   ]
  },
  {
   "cell_type": "markdown",
   "metadata": {},
   "source": [
    "The following plot indictes the time difference between using fast_exp and not for relatively small exponents. The blue is the running time of regular exponentiation in nanoseconds."
   ]
  },
  {
   "cell_type": "code",
   "execution_count": 5,
   "metadata": {},
   "outputs": [
    {
     "data": {
      "image/png": "[encoded data removed]",
      "text/plain": [
       "<Figure size 432x288 with 1 Axes>"
      ]
     },
     "metadata": {
      "needs_background": "light"
     },
     "output_type": "display_data"
    }
   ],
   "source": [
    "ns = [i*20 for i in range(0,100)]\n",
    "b = random.randint(2**20,2**21)\n",
    "N = 2**63\n",
    "times1 = [timer(fast_exp, b, i, N) for i in ns]\n",
    "times2 = [timer(lambda : b**i % N) for i in ns]\n",
    "fig, ax = plt.subplots()\n",
    "ax.set_ylim(0, 200000)\n",
    "ax.plot(times1, 'r.')\n",
    "pt = ax.plot(times2,'b.')"
   ]
  },
  {
   "cell_type": "markdown",
   "metadata": {},
   "source": [
    "The next two helper functions convert a text message to an integer and vice versa."
   ]
  },
  {
   "cell_type": "code",
   "execution_count": 6,
   "metadata": {},
   "outputs": [],
   "source": [
    "def message_to_int(message):\n",
    "    \"\"\"\n",
    "    Simply feed in one ascii code for a character at a time. So\n",
    "    message_to_int(\"Hi\") -> 0x4869, since, H -> 0x48 and i -> 0x69.\n",
    "    \"\"\"\n",
    "    int_message = 0\n",
    "    for c in message:\n",
    "        int_message = (int_message << 8) + ord(c)\n",
    "    return int_message\n",
    "    \n",
    "def int_to_message(n):\n",
    "    message = \"\"\n",
    "    while n > 0:\n",
    "        B = n % 256\n",
    "        n = n >> 8\n",
    "        c = chr(B)\n",
    "        message = c + message\n",
    "    return message"
   ]
  },
  {
   "cell_type": "markdown",
   "metadata": {},
   "source": [
    "Two more helper functions, isPrime does the obvious test, it optimizes a bit by testing only odd possible factors for primes and only up to the square root of n. The function Primes does a complete prime factorization of n. It is really the running time of these and similar functions that make RSA secure. If you try the isPrime on p or q below in the \"Real World\" parameters section, then don't plan on seeing the process terminate. To test primality on truely large numbers probabilistic primality tests are used. It is also useful to know about how likely you are to find a prime, the Prime Number Theorem basically provides that if an odd number is chosen at random that is around n bits, then the probability that that number is prime is approximately $\\frac{2}{n\\ln(2)}$. so if we choose a random odd number, $\\tilde p$, that is around 516 bits, then $P(\\tilde p\\in\\text{Primes})=\\frac{2}{216\\cdot\\log(2)}\\approx 1.34\\%$. After  53 random attempts the probability for finding a prime is already over 50\\%."
   ]
  },
  {
   "cell_type": "code",
   "execution_count": 7,
   "metadata": {},
   "outputs": [],
   "source": [
    "def isPrime(n):\n",
    "    if n == 2:\n",
    "        return True\n",
    "    if n % 2 == 0:\n",
    "        return False\n",
    "    i = 1\n",
    "    while (2*i+1)*(2*i + 1) <= n:\n",
    "        if n % (2*i + 1) == 0:\n",
    "            return False\n",
    "        i += 1\n",
    "    return True   \n",
    "\n",
    "def Primes(n):\n",
    "    i = 2\n",
    "    a = []\n",
    "    while i * i <= n:\n",
    "        while n % i == 0:\n",
    "            n = n // i\n",
    "            a.append(i)\n",
    "        if i == 2:\n",
    "            i += 1\n",
    "        else:\n",
    "            i += 2  # Need only check odds.\n",
    "    if n > 1:\n",
    "        a.append(n)\n",
    "    return a"
   ]
  },
  {
   "cell_type": "markdown",
   "metadata": {},
   "source": [
    "### Real World RSA parameters\n",
    "\n",
    "Here would be some \"real world\" prime pairs. These are 1024 bits, but our codes run too slow on these."
   ]
  },
  {
   "cell_type": "code",
   "execution_count": 8,
   "metadata": {},
   "outputs": [
    {
     "name": "stderr",
     "output_type": "stream",
     "text": [
      "e and d are inverses mod phi\n"
     ]
    },
    {
     "data": {
      "text/plain": [
       "'0xc21a93ee751a8d4fbfd77285d79d6768c58ebf283743d2889a395f266c78f4a28e86f545960c2ce01eb8ad5246905163b28d0b8baabb959cc03f4ec499186168ae9ed6d88058898907e61c7cccc584d65d801cfe32dfc983707f87f5aa6ae4b9e77b9ce630e2c0df05841b5e4984d059a35d7270d500514891f7b77b804bed81'"
      ]
     },
     "execution_count": 8,
     "metadata": {},
     "output_type": "execute_result"
    }
   ],
   "source": [
    "p = 0xE0DFD2C2A288ACEBC705EFAB30E4447541A8C5A47A37185C5A9CB98389CE4DE19199AA3069B404FD98C801568CB9170EB712BF10B4955CE9C9DC8CE6855C6123\n",
    "q = 0xEBE0FCF21866FD9A9F0D72F7994875A8D92E67AEE4B515136B2A778A8048B149828AEA30BD0BA34B977982A3D42168F594CA99F3981DDABFAB2369F229640115\n",
    "n = 0xCF33188211FDF6052BDBB1A37235E0ABB5978A45C71FD381A91AD12FC76DA0544C47568AC83D855D47CA8D8A779579AB72E635D0B0AAAC22D28341E998E90F82122A2C06090F43A37E0203C2B72E401FD06890EC8EAD4F07E686E906F01B2468AE7B30CBD670255C1FEDE1A2762CF4392C0759499CC0ABECFF008728D9A11ADF\n",
    "e = 0x40B028E1E4CCF07537643101FF72444A0BE1D7682F1EDB553E3AB4F6DD8293CA1945DB12D796AE9244D60565C2EB692A89B8881D58D278562ED60066DD8211E67315CF89857167206120405B08B54D10D4EC4ED4253C75FA74098FE3F7FB751FF5121353C554391E114C85B56A9725E9BD5685D6C9C7EED8EE442366353DC39\n",
    "d = 0xC21A93EE751A8D4FBFD77285D79D6768C58EBF283743D2889A395F266C78F4A28E86F545960C2CE01EB8AD5246905163B28D0B8BAABB959CC03F4EC499186168AE9ED6D88058898907E61C7CCCC584D65D801CFE32DFC983707F87F5AA6AE4B9E77B9CE630E2C0DF05841B5E4984D059A35D7270D500514891F7B77B804BED81\n",
    "\n",
    "# You can test that d = e^-1 mod phi\n",
    "phi = (p-1)*(q-1)\n",
    "\n",
    "check = \"e and d are inverses mod phi\" if e * d % phi == 1 else \"e and d are not inverses mod phi\"\n",
    "print(check, file=stderr)\n",
    "\n",
    "# You can even run bezout(e, (p - 1)*(q - 1)) to get d (so this is clearly not  slow operation!)\n",
    "(d, _, _) = bezout(e, phi) \n",
    "hex(d % phi)"
   ]
  },
  {
   "cell_type": "markdown",
   "metadata": {},
   "source": [
    "### Generate Primes\n",
    "\n",
    "These function generate primes to use for RSA. You can choose the size of the primes to look for. Do not try a size like 1024 bits as required for real RSA applications! "
   ]
  },
  {
   "cell_type": "code",
   "execution_count": 9,
   "metadata": {},
   "outputs": [],
   "source": [
    "import random as random\n",
    "\n",
    "def gen_prime(bits=32):\n",
    "    \"\"\"\n",
    "    Search for a prime around 32 bits.\n",
    "    \"\"\"\n",
    "    p = random.randint(2**bits, 2**(bits+1))\n",
    "    while not isPrime(p):\n",
    "        p = random.randint(2**bits, 2**(bits+1))\n",
    "    return p\n",
    "\n",
    "def gen_prime_pair(seed=None, bits=32):\n",
    "    random.seed(seed)\n",
    "    p = gen_prime(bits)\n",
    "    q = p\n",
    "    while (q == p):\n",
    "        q = gen_prime(bits)\n",
    "    return p,q"
   ]
  },
  {
   "cell_type": "markdown",
   "metadata": {},
   "source": [
    "### The RSA algorithm\n",
    "\n",
    "Here is the actual RSA. The first function uses the gen_prime_pair together with a seed for the random number generator (the \"pass phrase\" -- really just noise.) The encoding function simply takes the message, converts it to an integer, $m$, which must be $< n-1$ and then computes $c = m^e \\bmod n$. This is the cypher text. The decoding function, then computes $c^d \\bmod n$ which is again $m$ and then reconstructs the text from its numeric representation.  "
   ]
  },
  {
   "cell_type": "code",
   "execution_count": 10,
   "metadata": {},
   "outputs": [],
   "source": [
    "def RSA_gen_key_pair(pass_phrase, bits = 32):\n",
    "    \"\"\"\n",
    "    Decide if you wish to use a 32 bit or a 64 bit primes\n",
    "    and enter a pass phrase. This generates a (public, private)\n",
    "    pair, public = (n, e) where n = p*q, private = d so that\n",
    "    e*d  = 1 (mod phi) where phi = (p-1)*(q-1). \n",
    "    \n",
    "    The message to be encoded must be < n and so if n has k-bits, \n",
    "    then the message length is roughly k/8. (8 bits = 1 byte per\n",
    "    character.) Since n is roughly 2 * bits, bits should be set\n",
    "    to \"message length\" * 4 at least.\n",
    "    \"\"\"\n",
    "    p, q = gen_prime_pair(pass_phrase, bits)\n",
    "    n = p * q\n",
    "    m = (p - 1)*(q - 1)\n",
    "    gcd = 0\n",
    "    while gcd != 1:\n",
    "        e = random.randint(23, n)\n",
    "        (d, s, gcd) = bezout(e, m)\n",
    "        public = (n, e)\n",
    "        private = d\n",
    "    return public, private % m\n",
    "    \n",
    "def RSA_encode(public, message):\n",
    "    m = message_to_int(message)\n",
    "    if m > public[0] - 1:\n",
    "        print(\"Message is too long only %s charaters are allowed.\"%(int((log(public[0])/log(2))/8)),file=stderr)\n",
    "    return fast_exp(m, public[1], public[0])\n",
    "\n",
    "def RSA_decode(public, private, cypher):\n",
    "    return int_to_message(fast_exp(cypher, private, public[0]))"
   ]
  },
  {
   "cell_type": "markdown",
   "metadata": {},
   "source": [
    "### Generate public, private key pair.\n",
    "There are things to watch out for. Suppose I wish to code \"Hello\", this is five 8 bit (1 byte) characters, or 40 bits. For n to have 40 bits we need p and q to have around 20 bits so when running the key_gen, we need to use bits = 20. "
   ]
  },
  {
   "cell_type": "code",
   "execution_count": 11,
   "metadata": {},
   "outputs": [],
   "source": [
    "public, private = RSA_gen_key_pair(\"My Secret Key\", 20)"
   ]
  },
  {
   "cell_type": "markdown",
   "metadata": {},
   "source": [
    "### Encode the plain text message \"Hello\"."
   ]
  },
  {
   "cell_type": "code",
   "execution_count": 12,
   "metadata": {},
   "outputs": [],
   "source": [
    "cypher = RSA_encode(public, \"Hello\")"
   ]
  },
  {
   "cell_type": "code",
   "execution_count": 13,
   "metadata": {},
   "outputs": [
    {
     "name": "stdout",
     "output_type": "stream",
     "text": [
      "The hex version of the cypher text is 0x10af90b6d95 this is what is transmitted \n",
      "along with the public key (n, e) = (0x1fa9e568c77,0xf40d28d477).\n"
     ]
    }
   ],
   "source": [
    "print(\"The hex version of the cypher text is {} this is what is \\\n",
    "transmitted \\nalong with the public key (n, e) = ({},{}).\".format(hex(cypher),hex(public[0]), hex(public[1])))"
   ]
  },
  {
   "cell_type": "markdown",
   "metadata": {},
   "source": [
    "### Decode the original message."
   ]
  },
  {
   "cell_type": "code",
   "execution_count": 14,
   "metadata": {},
   "outputs": [
    {
     "name": "stdout",
     "output_type": "stream",
     "text": [
      "Hello\n"
     ]
    }
   ],
   "source": [
    "message = RSA_decode(public, private, cypher)\n",
    "print(message)"
   ]
  },
  {
   "cell_type": "markdown",
   "metadata": {},
   "source": [
    "### Breaking RSA\n",
    "The following simulates a brute force break of a 32 bit RSA encryption. The primes are chosen to be 16 bit, so the search space has size $2^{16}=65536$."
   ]
  },
  {
   "cell_type": "code",
   "execution_count": 15,
   "metadata": {},
   "outputs": [],
   "source": [
    "public, private = RSA_gen_key_pair(\"My Secret Key\", 16)\n",
    "cypher = RSA_encode(public, \"CODE\")"
   ]
  },
  {
   "cell_type": "markdown",
   "metadata": {},
   "source": [
    "Break the encryption by factoring n. (Brute force.)"
   ]
  },
  {
   "cell_type": "code",
   "execution_count": 16,
   "metadata": {},
   "outputs": [],
   "source": [
    "n = public[0]\n",
    "e = public[1]\n",
    "p, q = Primes(n)\n",
    "phi = (p - 1) * (q - 1)\n",
    "(d, _, _) = bezout(e, phi)\n",
    "d = d % phi\n",
    "plain_text = fast_exp(cypher, d, n)\n",
    "message = int_to_message(plain_text)"
   ]
  },
  {
   "cell_type": "markdown",
   "metadata": {},
   "source": [
    "By brute force, iterate through all possibilities for the private key $d$ and see which result in the given plain texts."
   ]
  },
  {
   "cell_type": "code",
   "execution_count": 17,
   "metadata": {},
   "outputs": [
    {
     "data": {
      "text/plain": [
       "'CODE'"
      ]
     },
     "execution_count": 17,
     "metadata": {},
     "output_type": "execute_result"
    }
   ],
   "source": [
    "message"
   ]
  },
  {
   "cell_type": "code",
   "execution_count": null,
   "metadata": {},
   "outputs": [],
   "source": []
  }
 ],
 "metadata": {
  "kernelspec": {
   "display_name": "Python 3",
   "language": "python",
   "name": "python3"
  },
  "language_info": {
   "codemirror_mode": {
    "name": "ipython",
    "version": 3
   },
   "file_extension": ".py",
   "mimetype": "text/x-python",
   "name": "python",
   "nbconvert_exporter": "python",
   "pygments_lexer": "ipython3",
   "version": "3.7.3"
  }
 },
 "nbformat": 4,
 "nbformat_minor": 2
}
